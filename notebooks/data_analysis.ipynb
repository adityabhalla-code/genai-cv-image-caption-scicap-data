{
 "cells": [
  {
   "cell_type": "markdown",
   "id": "fdead411-57f0-45ab-b879-e125a2f865e0",
   "metadata": {},
   "source": [
    "# imports"
   ]
  },
  {
   "cell_type": "code",
   "execution_count": 1,
   "id": "0c57a384-b00d-42db-8aa7-277b12872184",
   "metadata": {},
   "outputs": [],
   "source": [
    "import warnings\n",
    "warnings.filterwarnings('ignore')\n",
    "import matplotlib.pyplot as plt\n",
    "from tqdm import tqdm\n",
    "import pandas as pd\n",
    "import logging \n",
    "import json\n",
    "import time\n",
    "import os \n"
   ]
  },
  {
   "cell_type": "markdown",
   "id": "00cfc7b4-3dfc-4354-9757-cf73c0569def",
   "metadata": {},
   "source": [
    "# utilities"
   ]
  },
  {
   "cell_type": "code",
   "execution_count": 2,
   "id": "b41e1855-575e-4a1e-bec8-8c217a74f0e0",
   "metadata": {},
   "outputs": [],
   "source": [
    "# class CustomFormatter(logging.Formatter):\n",
    "#     def __init__(self, fmt=None, datefmt=None, style='%', custom_process=None):\n",
    "#         super().__init__(fmt, datefmt, style)\n",
    "#         self.custom_process = custom_process\n",
    "\n",
    "#     def format(self, record):\n",
    "#         record.custom_process = self.custom_process\n",
    "#         return super().format(record)\n",
    "\n",
    "# # custom_process_id = 'image_captions'\n",
    "# formatter = CustomFormatter(\n",
    "#     fmt='%(asctime)s - %(name)s - %(levelname)s - %(custom_process)s - %(message)s',\n",
    "#     custom_process=custom_process_id\n",
    "# )\n",
    "# file_handler = logging.FileHandler('scicap_data_analysis.log')\n",
    "# file_handler.setFormatter(formatter)\n",
    "# # console_handler = logging.StreamHandler()\n",
    "# # console_handler.setFormatter(formatter)\n",
    "# logging.basicConfig(\n",
    "#     level=logging.DEBUG,\n",
    "#     handlers=[file_handler], #console_handler\n",
    "# )\n",
    "\n",
    "# logger = logging.getLogger(__name__)\n"
   ]
  },
  {
   "cell_type": "code",
   "execution_count": 3,
   "id": "2ade26c6-9de3-4e2f-8a4c-f8a925cecded",
   "metadata": {},
   "outputs": [],
   "source": [
    "logging.basicConfig(\n",
    "    level=logging.DEBUG,  \n",
    "    format='%(asctime)s - %(name)s - %(levelname)s - %(message)s', \n",
    "    handlers=[\n",
    "        logging.FileHandler('logfile.log'),  \n",
    "        # logging.StreamHandler()  \n",
    "    ]\n",
    ")\n",
    "\n",
    "logger = logging.getLogger(__name__)"
   ]
  },
  {
   "cell_type": "markdown",
   "id": "7868ac81-1f7f-4e45-a5f6-2eb50aa396b4",
   "metadata": {},
   "source": [
    "# directories and sub directories"
   ]
  },
  {
   "cell_type": "code",
   "execution_count": 4,
   "id": "98c83bcf-2de5-4fee-b669-21738e89b6b6",
   "metadata": {},
   "outputs": [
    {
     "name": "stdout",
     "output_type": "stream",
     "text": [
      "{os.listdir()}\n"
     ]
    }
   ],
   "source": [
    "print(\"{os.listdir()}\")"
   ]
  },
  {
   "cell_type": "code",
   "execution_count": 5,
   "id": "ac12e3ff-6564-426b-88af-730fa53e2886",
   "metadata": {},
   "outputs": [
    {
     "name": "stdout",
     "output_type": "stream",
     "text": [
      "['.DS_Store', 'First-Sentence', 'Caption-No-More-Than-100-Tokens', 'Single-Sentence-Caption']\n"
     ]
    }
   ],
   "source": [
    "print(os.listdir('List-of-Files-for-Each-Experiments'))\n"
   ]
  },
  {
   "cell_type": "code",
   "execution_count": 6,
   "id": "01b8ed2e-05dc-4353-8580-44497d69c5e8",
   "metadata": {},
   "outputs": [
    {
     "name": "stdout",
     "output_type": "stream",
     "text": [
      "['No-Subfig', 'Yes-Subfig']\n"
     ]
    }
   ],
   "source": [
    "print(os.listdir('List-of-Files-for-Each-Experiments/First-Sentence'))"
   ]
  },
  {
   "cell_type": "code",
   "execution_count": 7,
   "id": "efc651ab-7a6f-4b40-b253-26853cb3211a",
   "metadata": {},
   "outputs": [
    {
     "name": "stdout",
     "output_type": "stream",
     "text": [
      "['test', 'train', 'val']\n"
     ]
    }
   ],
   "source": [
    "print(os.listdir('List-of-Files-for-Each-Experiments/First-Sentence/No-Subfig'))\n"
   ]
  },
  {
   "cell_type": "code",
   "execution_count": 8,
   "id": "81678873-ccbc-4555-90c9-c5df2ca55236",
   "metadata": {},
   "outputs": [
    {
     "name": "stdout",
     "output_type": "stream",
     "text": [
      "['file_idx.json']\n"
     ]
    }
   ],
   "source": [
    "print(os.listdir('List-of-Files-for-Each-Experiments/First-Sentence/No-Subfig/test'))\n"
   ]
  },
  {
   "cell_type": "code",
   "execution_count": 9,
   "id": "2a0ae665-22e4-4c4f-9900-fc877f698423",
   "metadata": {},
   "outputs": [
    {
     "name": "stdout",
     "output_type": "stream",
     "text": [
      "['file_idx.json']\n"
     ]
    }
   ],
   "source": [
    "print(os.listdir('List-of-Files-for-Each-Experiments/First-Sentence/No-Subfig/train'))\n"
   ]
  },
  {
   "cell_type": "code",
   "execution_count": 10,
   "id": "4e07dc82-87fa-4613-b456-3ce4afdb6795",
   "metadata": {},
   "outputs": [
    {
     "name": "stdout",
     "output_type": "stream",
     "text": [
      "['file_idx.json']\n"
     ]
    }
   ],
   "source": [
    "print(os.listdir('List-of-Files-for-Each-Experiments/First-Sentence/No-Subfig/val'))"
   ]
  },
  {
   "cell_type": "code",
   "execution_count": 11,
   "id": "91289add-76bc-422e-ab43-8061d87ed77b",
   "metadata": {},
   "outputs": [],
   "source": [
    "def read_json(path):\n",
    "    with open(path,'r') as f:\n",
    "        json_f = json.load(f)\n",
    "        return json_f"
   ]
  },
  {
   "cell_type": "code",
   "execution_count": 12,
   "id": "3a645eb7-e1c7-4f7c-a4aa-28a7938b1348",
   "metadata": {},
   "outputs": [],
   "source": [
    "file_idx_test = read_json('List-of-Files-for-Each-Experiments/First-Sentence/No-Subfig/test/file_idx.json')\n",
    "file_idx_train = read_json('List-of-Files-for-Each-Experiments/First-Sentence/No-Subfig/train/file_idx.json')\n",
    "file_idx_val = read_json('List-of-Files-for-Each-Experiments/First-Sentence/No-Subfig/val/file_idx.json')"
   ]
  },
  {
   "cell_type": "code",
   "execution_count": 13,
   "id": "b6d0207f-b85a-4c66-aae7-1825f6baa01d",
   "metadata": {
    "scrolled": true
   },
   "outputs": [
    {
     "data": {
      "text/plain": [
       "['1001.0317v2-Figure2-1.png',\n",
       " '1001.0361v2-Figure5-1.png',\n",
       " '1001.1026v1-Figure6-1.png',\n",
       " '1001.1298v1-Figure6-1.png',\n",
       " '1001.1603v1-Figure9-1.png',\n",
       " '1001.1872v1-Figure1-1.png',\n",
       " '1001.1872v1-Figure3-1.png',\n",
       " '1001.1896v2-Figure3-1.png',\n",
       " '1001.1902v2-Figure4-1.png',\n",
       " '1001.2228v2-Figure6-1.png',\n",
       " '1001.2250v1-Figure6-1.png',\n",
       " '1001.2272v1-Figure3-1.png',\n",
       " '1001.2283v1-Figure2-1.png',\n",
       " '1001.2283v1-Figure3-1.png',\n",
       " '1001.2320v1-Figure4-1.png',\n",
       " '1001.2376v1-Figure5-1.png',\n",
       " '1001.2411v1-Figure3-1.png',\n",
       " '1001.2503v1-Figure1-1.png',\n",
       " '1001.2625v2-Figure12-1.png',\n",
       " '1001.2848v1-Figure1-1.png',\n",
       " '1001.3173v2-Figure7-1.png',\n",
       " '1001.3193v1-Figure7-1.png',\n",
       " '1001.3225v1-Figure6-1.png',\n",
       " '1001.3246v1-Figure3-1.png',\n",
       " '1001.3246v1-Figure8-1.png',\n",
       " '1001.3673v1-Figure7-1.png',\n",
       " '1001.3744v1-Figure8-1.png',\n",
       " '1001.4108v2-Figure7-1.png',\n",
       " '1001.4122v1-Figure7-1.png',\n",
       " '1001.4301v1-Figure17-1.png',\n",
       " '1001.4301v1-Figure6-1.png',\n",
       " '1001.4423v1-Figure2-1.png',\n",
       " '1001.4432v3-Figure2-1.png',\n",
       " '1001.4689v1-Figure4-1.png',\n",
       " '1001.5079v1-Figure3-1.png',\n",
       " '1001.5454v3-Figure5-1.png',\n",
       " '1002.0276v1-Figure4-1.png',\n",
       " '1002.0406v1-Figure7-1.png',\n",
       " '1002.1151v1-Figure7-1.png',\n",
       " '1002.1176v1-Figure6-1.png',\n",
       " '1002.1531v3-Figure1-1.png',\n",
       " '1002.1629v1-Figure1-1.png',\n",
       " '1002.1689v1-Figure4-1.png',\n",
       " '1002.1751v2-Figure8-1.png',\n",
       " '1002.1954v1-Figure5-1.png',\n",
       " '1002.2147v1-Figure1-1.png',\n",
       " '1002.2187v1-Figure12-1.png',\n",
       " '1002.2187v1-Figure9-1.png',\n",
       " '1002.2189v1-Figure2-1.png',\n",
       " '1002.2403v1-Figure9-1.png',\n",
       " '1002.2425v1-Figure4-1.png',\n",
       " '1002.2523v1-Figure4-1.png',\n",
       " '1002.2655v4-Figure3-1.png',\n",
       " '1002.3188v2-Figure2-1.png',\n",
       " '1002.3188v2-Figure4-1.png',\n",
       " '1002.3234v2-Figure11-1.png',\n",
       " '1002.3234v2-Figure9-1.png',\n",
       " '1002.3317v2-Figure4-1.png',\n",
       " '1002.3320v1-Figure6-1.png',\n",
       " '1002.3328v1-Figure3-1.png',\n",
       " '1002.3521v1-Figure2-1.png',\n",
       " '1002.3629v1-Figure6-1.png',\n",
       " '1002.4063v1-Figure5-1.png',\n",
       " '1002.4263v1-Figure2-1.png',\n",
       " '1002.4263v1-Figure7-1.png',\n",
       " '1002.4473v1-Figure4-1.png',\n",
       " '1002.4838v1-Figure6-1.png',\n",
       " '1003.0093v2-Figure3-1.png',\n",
       " '1003.0190v1-Figure1-1.png',\n",
       " '1003.0206v1-Figure9-1.png',\n",
       " '1003.0248v2-Figure10-1.png',\n",
       " '1003.0445v1-Figure5-1.png',\n",
       " '1003.0514v1-Figure3-1.png',\n",
       " '1003.1020v2-Figure2-1.png',\n",
       " '1003.1251v2-Figure7-1.png',\n",
       " '1003.1504v1-Figure8-1.png',\n",
       " '1003.1509v1-Figure7-1.png',\n",
       " '1003.1967v1-Figure13-1.png',\n",
       " '1003.1967v1-Figure5-1.png',\n",
       " '1003.2255v1-Figure1-1.png',\n",
       " '1003.2372v1-Figure6-1.png',\n",
       " '1003.2458v1-Figure12-1.png',\n",
       " '1003.2458v1-Figure4-1.png',\n",
       " '1003.2471v1-Figure1-1.png',\n",
       " '1003.2724v1-Figure12-1.png',\n",
       " '1003.2724v1-Figure5-1.png',\n",
       " '1003.2883v2-Figure6-1.png',\n",
       " '1003.3090v1-Figure6-1.png',\n",
       " '1003.3091v1-Figure8-1.png',\n",
       " '1003.3307v1-Figure4-1.png',\n",
       " '1003.3312v1-Figure11-1.png',\n",
       " '1003.3312v1-Figure7-1.png',\n",
       " '1003.3558v1-Figure9-1.png',\n",
       " '1003.4065v1-Figure10-1.png',\n",
       " '1003.4065v1-Figure9-1.png',\n",
       " '1003.4140v1-Figure2-1.png',\n",
       " '1003.4629v2-Figure4-1.png',\n",
       " '1003.5345v1-Figure1-1.png',\n",
       " '1003.5474v2-Figure6-1.png',\n",
       " '1004.0027v1-Figure10-1.png',\n",
       " '1004.0027v1-Figure9-1.png',\n",
       " '1004.0456v1-Figure6-1.png',\n",
       " '1004.0542v3-Figure7-1.png',\n",
       " '1004.0744v1-Figure7-1.png',\n",
       " '1004.0816v2-Figure4-1.png',\n",
       " '1004.0816v2-Figure6-1.png',\n",
       " '1004.0899v1-Figure2-1.png',\n",
       " '1004.0914v1-Figure3-1.png',\n",
       " '1004.1184v1-Figure6-1.png',\n",
       " '1004.1511v1-Figure2-1.png',\n",
       " '1004.1632v2-Figure6-1.png',\n",
       " '1004.1706v1-Figure4-1.png',\n",
       " '1004.1744v1-Figure8-1.png',\n",
       " '1004.1842v1-Figure3-1.png',\n",
       " '1004.1864v2-Figure16-1.png',\n",
       " '1004.1997v1-Figure2-1.png',\n",
       " '1004.2322v1-Figure8-1.png',\n",
       " '1004.2354v1-Figure1-1.png',\n",
       " '1004.2523v1-Figure2-1.png',\n",
       " '1004.2772v2-Figure5-1.png',\n",
       " '1004.2773v1-Figure2-1.png',\n",
       " '1004.2880v1-Figure2-1.png',\n",
       " '1004.3040v1-Figure4-1.png',\n",
       " '1004.3174v1-Figure7-1.png',\n",
       " '1004.3273v1-Figure2-1.png',\n",
       " '1004.3332v1-Figure3-1.png',\n",
       " '1004.3547v1-Figure6-1.png',\n",
       " '1004.3563v1-Figure6-1.png',\n",
       " '1004.3887v1-Figure2-1.png',\n",
       " '1004.4222v2-Figure2-1.png',\n",
       " '1004.4358v1-Figure11-1.png',\n",
       " '1004.4432v1-Figure5-1.png',\n",
       " '1004.4489v1-Figure2-1.png',\n",
       " '1004.4529v1-Figure2-1.png',\n",
       " '1004.4554v2-Figure3-1.png',\n",
       " '1004.4759v1-Figure6.1-1.png',\n",
       " '1004.5009v1-Figure1-1.png',\n",
       " '1004.5070v5-Figure12-1.png',\n",
       " '1004.5229v3-Figure5-1.png',\n",
       " '1004.5274v1-Figure8-1.png',\n",
       " '1005.0089v1-Figure3-1.png',\n",
       " '1005.0109v2-Figure3-1.png',\n",
       " '1005.0375v2-Figure7-1.png',\n",
       " '1005.0498v1-Figure1-1.png',\n",
       " '1005.0677v1-Figure14-1.png',\n",
       " '1005.0677v1-TableII-1.png',\n",
       " '1005.0880v1-Figure2-1.png',\n",
       " '1005.1339v1-Figure3-1.png',\n",
       " '1005.1588v3-Figure8-1.png',\n",
       " '1005.1758v1-Figure2-1.png',\n",
       " '1005.1758v1-Figure4-1.png',\n",
       " '1005.1759v1-Figure6-1.png',\n",
       " '1005.2061v3-Figure4-1.png',\n",
       " '1005.2218v5-Figure4-1.png',\n",
       " '1005.2638v1-Figure8-1.png',\n",
       " '1005.2731v1-Figure7-1.png',\n",
       " '1005.2821v1-Figure6-1.png',\n",
       " '1005.3073v1-Figure4-1.png',\n",
       " '1005.3620v1-Figure1-1.png',\n",
       " '1005.4015v1-Figure12-1.png',\n",
       " '1005.4031v1-Figure1-1.png',\n",
       " '1005.4337v1-Figure5-1.png',\n",
       " '1005.4454v1-Figure7-1.png',\n",
       " '1005.4518v2-FigureA.3-1.png',\n",
       " '1005.4714v2-Figure4-1.png',\n",
       " '1005.4769v5-Figure21-1.png',\n",
       " '1005.4834v1-Figure1-1.png',\n",
       " '1005.5063v2-Figure5-1.png',\n",
       " '1005.5115v1-Figure7-1.png',\n",
       " '1005.5412v1-Figure6-1.png',\n",
       " '1005.5412v1-Figure7-1.png',\n",
       " '1005.5674v3-Figure4-1.png',\n",
       " '1005.5674v3-Figure5-1.png',\n",
       " '1005.5674v3-Figure9-1.png',\n",
       " '1006.0168v1-Figure8-1.png',\n",
       " '1006.1380v1-Figure5-1.png',\n",
       " '1006.1380v1-Figure7-1.png',\n",
       " '1006.1383v2-Figure4-1.png',\n",
       " '1006.1535v1-Figure4-1.png',\n",
       " '1006.1565v1-Figure2-1.png',\n",
       " '1006.1918v1-Figure1-1.png',\n",
       " '1006.2637v1-Figure3-1.png',\n",
       " '1006.2844v1-Figure3-1.png',\n",
       " '1006.2880v2-Figure4-1.png',\n",
       " '1006.3498v2-Figure5-1.png',\n",
       " '1006.3726v4-Figure8-1.png',\n",
       " '1006.3894v1-Figure2-1.png',\n",
       " '1006.4608v1-Figure13-1.png',\n",
       " '1006.4608v1-Figure28-1.png',\n",
       " '1006.4608v1-Figure31-1.png',\n",
       " '1006.4608v1-Figure35-1.png',\n",
       " '1006.4754v1-Figure2-1.png',\n",
       " '1006.4824v1-Figure4-1.png',\n",
       " '1006.5061v1-Figure2-1.png',\n",
       " '1006.5061v1-Figure5-1.png',\n",
       " '1006.5099v1-Figure7-1.png',\n",
       " '1006.5376v1-Figure3-1.png',\n",
       " '1006.5445v1-Figure7-1.png',\n",
       " '1006.5516v1-Figure2-1.png',\n",
       " '1006.5829v1-Figure2-1.png',\n",
       " '1006.5938v1-Figure10-1.png',\n",
       " '1006.5945v2-Figure5-1.png',\n",
       " '1007.0410v1-Figure3-1.png',\n",
       " '1007.0512v2-Figure6-1.png',\n",
       " '1007.0776v1-Figure1-1.png',\n",
       " '1007.1087v1-Figure5-1.png',\n",
       " '1007.2071v1-Figure1-1.png',\n",
       " '1007.2814v1-Figure10-1.png',\n",
       " '1007.2814v1-Figure6-1.png',\n",
       " '1007.2902v1-Figure6-1.png',\n",
       " '1007.3254v2-Figure6-1.png',\n",
       " '1007.3384v2-Figure2-1.png',\n",
       " '1007.4221v2-Figure5-1.png',\n",
       " '1007.4286v1-Figure2-1.png',\n",
       " '1007.4371v1-Figure3-1.png',\n",
       " '1007.4440v3-Figure3-1.png',\n",
       " '1007.4542v1-Figure3-1.png',\n",
       " '1007.4591v3-Figure13-1.png',\n",
       " '1007.5117v1-Figure7-1.png',\n",
       " '1007.5168v1-Figure7-1.png',\n",
       " '1007.5240v2-Figure2-1.png',\n",
       " '1007.5354v1-Figure8-1.png',\n",
       " '1008.0064v1-Figure2-1.png',\n",
       " '1008.0735v1-Figure8-1.png',\n",
       " '1008.1289v1-Figure5-1.png',\n",
       " '1008.1372v1-Figure1-1.png',\n",
       " '1008.1628v4-Figure11-1.png',\n",
       " '1008.2063v1-Figure10-1.png',\n",
       " '1008.2574v1-Figure4-1.png',\n",
       " '1008.2855v1-Figure13-1.png',\n",
       " '1008.3035v1-Figure4-1.png',\n",
       " '1008.3282v1-TableIII-1.png',\n",
       " '1008.3289v1-Figure2-1.png',\n",
       " '1008.3608v1-Figure6-1.png',\n",
       " '1008.3618v1-Figure5-1.png',\n",
       " '1008.3746v2-Figure2-1.png',\n",
       " '1008.3776v1-Figure4-1.png',\n",
       " '1008.4177v2-Figure17-1.png',\n",
       " '1008.4185v1-Figure6-1.png',\n",
       " '1008.4221v1-Figure2-1.png',\n",
       " '1008.4413v1-Figure13-1.png',\n",
       " '1008.4747v4-Figure3-1.png',\n",
       " '1008.4844v5-Figure9-1.png',\n",
       " '1008.5078v1-Figure3.5-1.png',\n",
       " '1008.5217v2-Figure7-1.png',\n",
       " '1008.5387v1-Figure4-1.png',\n",
       " '1009.0289v2-Figure3-1.png',\n",
       " '1009.0289v2-Figure4-1.png',\n",
       " '1009.0425v1-Figure6-1.png',\n",
       " '1009.0516v2-Figure10-1.png',\n",
       " '1009.0516v2-Figure6-1.png',\n",
       " '1009.0626v1-Figure2-1.png',\n",
       " '1009.0769v1-Figure4-1.png',\n",
       " '1009.0854v1-Figure5-1.png',\n",
       " '1009.0921v2-Figure6-1.png',\n",
       " '1009.1460v1-Figure6-1.png',\n",
       " '1009.2577v1-Figure3-1.png',\n",
       " '1009.2602v1-Figure6-1.png',\n",
       " '1009.2617v1-Figure2-1.png',\n",
       " '1009.3090v2-Figure7-1.png',\n",
       " '1009.3090v2-Figure8-1.png',\n",
       " '1009.3240v2-Figure1-1.png',\n",
       " '1009.3359v3-Figure3-1.png',\n",
       " '1009.3567v1-Figure2-1.png',\n",
       " '1009.3681v1-Figure1-1.png',\n",
       " '1009.3785v1-Figure11-1.png',\n",
       " '1009.4091v1-Figure2-1.png',\n",
       " '1009.4263v1-Figure7-1.png',\n",
       " '1009.4597v2-Figure5-1.png',\n",
       " '1009.4597v2-Figure6-1.png',\n",
       " '1009.4739v1-Figure4-1.png',\n",
       " '1009.4739v1-Figure5-1.png',\n",
       " '1009.4773v1-Figure7-1.png',\n",
       " '1009.5012v1-Figure5-1.png',\n",
       " '1009.5145v1-Figure2-1.png',\n",
       " '1009.5183v1-Figure8-1.png',\n",
       " '1009.5316v1-Figure5-1.png',\n",
       " '1009.5764v2-Figure1-1.png',\n",
       " '1009.6079v2-Figure12-1.png',\n",
       " '1009.6091v1-Figure2-1.png',\n",
       " '1009.6091v1-Figure6-1.png',\n",
       " '1009.6091v1-Figure7-1.png',\n",
       " '1010.0200v2-Figure2-1.png',\n",
       " '1010.0200v2-Figure8-1.png',\n",
       " '1010.0237v1-Figure20-1.png',\n",
       " '1010.0376v1-Figure14-1.png',\n",
       " '1010.0609v1-Figure2-1.png',\n",
       " '1010.0624v1-Figure10-1.png',\n",
       " '1010.0624v1-Figure6-1.png',\n",
       " '1010.1496v1-Figure10-1.png',\n",
       " '1010.1648v1-Figure8-1.png',\n",
       " '1010.1894v1-Figure2-1.png',\n",
       " '1010.2157v1-Figure5-1.png',\n",
       " '1010.2441v1-Figure3-1.png',\n",
       " '1010.2667v1-Figure2-1.png',\n",
       " '1010.3071v1-Figure3-1.png',\n",
       " '1010.3133v2-Figure3-1.png',\n",
       " '1010.3547v4-Figure4-1.png',\n",
       " '1010.3935v1-Figure9-1.png',\n",
       " '1010.4160v3-Figure1-1.png',\n",
       " '1010.4160v3-Figure2-1.png',\n",
       " '1010.4499v1-Figure6-1.png',\n",
       " '1010.4612v2-Figure10-1.png',\n",
       " '1010.4702v1-Figure6-1.png',\n",
       " '1010.4822v1-Figure2-1.png',\n",
       " '1010.4980v1-Figure2-1.png',\n",
       " '1010.4980v1-Figure3-1.png',\n",
       " '1010.4986v1-Figure11-1.png',\n",
       " '1010.5278v2-Figure4-1.png',\n",
       " '1010.5537v2-Figure5-1.png',\n",
       " '1010.5537v2-Figure7-1.png',\n",
       " '1010.5661v2-Figure2-1.png',\n",
       " '1010.5691v2-Figure3-1.png',\n",
       " '1010.5749v1-Figure4-1.png',\n",
       " '1010.5806v1-Figure15-1.png',\n",
       " '1010.6096v2-Figure10-1.png',\n",
       " '1010.6096v2-Figure11-1.png',\n",
       " '1010.6096v2-Figure16-1.png',\n",
       " '1011.0786v1-Figure4.1-1.png',\n",
       " '1011.0786v1-Figure5.1-1.png',\n",
       " '1011.0792v1-Figure1-1.png',\n",
       " '1011.1703v3-Figure1-1.png',\n",
       " '1011.1970v3-Figure2-1.png',\n",
       " '1011.2173v3-Figure6-1.png',\n",
       " '1011.2173v3-Figure7-1.png',\n",
       " '1011.2173v3-Figure8-1.png',\n",
       " '1011.2235v3-Figure4-1.png',\n",
       " '1011.2304v1-Figure3-1.png',\n",
       " '1011.2304v1-Figure4-1.png',\n",
       " '1011.2313v3-Figure8-1.png',\n",
       " '1011.2336v1-Figure3-1.png',\n",
       " '1011.2686v1-Figure10-1.png',\n",
       " '1011.2945v1-Figure3-1.png',\n",
       " '1011.3174v1-Figure4-1.png',\n",
       " '1011.3272v2-Figure6-1.png',\n",
       " '1011.3534v1-Figure5-1.png',\n",
       " '1011.3722v2-Figure4-1.png',\n",
       " '1011.3761v2-Figure5-1.png',\n",
       " '1011.3890v2-Figure3-1.png',\n",
       " '1011.3964v1-Figure4-1.png',\n",
       " '1011.4071v1-Figure8-1.png',\n",
       " '1011.4602v1-Figure4-1.png',\n",
       " '1011.5065v1-Figure5-1.png',\n",
       " '1011.5115v1-Figure5-1.png',\n",
       " '1011.5274v2-Figure7-1.png',\n",
       " '1011.5317v2-Figure6-1.png',\n",
       " '1011.6022v4-Figure9-1.png',\n",
       " '1011.6049v1-Figure13-1.png',\n",
       " '1012.0260v1-Figure3-1.png',\n",
       " '1012.0736v1-Figure4-1.png',\n",
       " '1012.1007v4-Figure3-1.png',\n",
       " '1012.1665v1-Figure4-1.png',\n",
       " '1012.2062v4-Figure10-1.png',\n",
       " '1012.2073v1-Figure2-1.png',\n",
       " '1012.2598v1-Figure2-1.png',\n",
       " '1012.2787v1-Figure6-1.png',\n",
       " '1012.2831v2-Figure3-1.png',\n",
       " '1012.3440v1-Figure14-1.png',\n",
       " '1012.3724v1-Figure10-1.png',\n",
       " '1012.3793v1-Figure1-1.png',\n",
       " '1012.4136v1-Figure4-1.png',\n",
       " '1012.4194v1-Figure1-1.png',\n",
       " '1012.4542v1-Figure2-1.png',\n",
       " '1012.4691v1-Figure3-1.png',\n",
       " '1012.4691v1-Figure6-1.png',\n",
       " '1012.4909v1-Figure3-1.png',\n",
       " '1012.5197v3-Figure10-1.png',\n",
       " '1012.5379v2-Figure9-1.png',\n",
       " '1012.6018v1-Figure2-1.png',\n",
       " '1101.0234v1-Figure31-1.png',\n",
       " '1101.0382v2-Figure5–1-1.png',\n",
       " '1101.0382v2-Figure5–3-1.png',\n",
       " '1101.0653v1-Figure3-1.png',\n",
       " '1101.1001v1-Figure3-1.png',\n",
       " '1101.1042v4-Figure1-1.png',\n",
       " '1101.1118v4-Figure31-1.png',\n",
       " '1101.1118v4-Figure7-1.png',\n",
       " '1101.1932v1-Figure11-1.png',\n",
       " '1101.2317v1-Figure7-1.png',\n",
       " '1101.2389v2-Figure7-1.png',\n",
       " '1101.2604v2-Figure5-1.png',\n",
       " '1101.3122v2-Figure4-1.png',\n",
       " '1101.3214v2-Figure6-1.png',\n",
       " '1101.3521v5-Figure4-1.png',\n",
       " '1101.3755v2-Figure3-1.png',\n",
       " '1101.4034v1-Figure10-1.png',\n",
       " '1101.4034v1-Figure17-1.png',\n",
       " '1101.4034v1-Figure2-1.png',\n",
       " '1101.4034v1-Figure21-1.png',\n",
       " '1101.4378v1-Figure2-1.png',\n",
       " '1101.4435v1-Figure2-1.png',\n",
       " '1101.4724v3-Figure9-1.png',\n",
       " '1102.0023v1-Figure25-1.png',\n",
       " '1102.0026v1-Figure8-1.png',\n",
       " '1102.0043v1-Figure2-1.png',\n",
       " '1102.0160v1-Figure1-1.png',\n",
       " '1102.0424v1-Figure4-1.png',\n",
       " '1102.0634v1-Figure4-1.png',\n",
       " '1102.0817v1-Figure3-1.png',\n",
       " '1102.0876v1-Figure4-1.png',\n",
       " '1102.0930v1-Figure10-1.png',\n",
       " '1102.1103v1-Figure5-1.png',\n",
       " '1102.1265v1-Figure1-1.png',\n",
       " '1102.1462v4-Figure7-1.png',\n",
       " '1102.1534v1-Figure6-1.png',\n",
       " '1102.1754v1-Figure3-1.png',\n",
       " '1102.2445v1-Figure5-1.png',\n",
       " '1102.2620v1-Figure4-1.png',\n",
       " '1102.2836v4-Figure7-1.png',\n",
       " '1102.2881v1-Figure7-1.png',\n",
       " '1102.2891v1-Figure1.5-1.png',\n",
       " '1102.3058v1-Figure4-1.png',\n",
       " '1102.3165v1-Figure4-1.png',\n",
       " '1102.3392v1-Figure2-1.png',\n",
       " '1102.3538v1-Figure5-1.png',\n",
       " '1102.3579v1-Figure3-1.png',\n",
       " '1102.3944v3-Figure2-1.png',\n",
       " '1102.4374v1-Figure10-1.png',\n",
       " '1102.4374v1-Figure8-1.png',\n",
       " '1102.4522v1-Figure2-1.png',\n",
       " '1102.4528v3-Figure4-1.png',\n",
       " '1102.5112v4-Figure4-1.png',\n",
       " '1102.5322v1-Figure3-1.png',\n",
       " '1102.5500v2-Figure3-1.png',\n",
       " '1102.5593v2-Figure2-1.png',\n",
       " '1103.0038v2-Figure10-1.png',\n",
       " '1103.0038v2-Figure3-1.png',\n",
       " '1103.0171v3-Figure6-1.png',\n",
       " '1103.0171v3-Figure7-1.png',\n",
       " '1103.0358v1-Figure3-5-1.png',\n",
       " '1103.0461v1-Figure1-1.png',\n",
       " '1103.0795v1-Figure2-1.png',\n",
       " '1103.0837v1-Figure7-1.png',\n",
       " '1103.1306v1-Figure3-1.png',\n",
       " '1103.1360v2-Figure22-1.png',\n",
       " '1103.1529v2-Figure1-1.png',\n",
       " '1103.2071v2-Figure4-1.png',\n",
       " '1103.2289v1-Figure3-1.png',\n",
       " '1103.2348v1-Figure5-1.png',\n",
       " '1103.2573v1-Figure5-1.png',\n",
       " '1103.2750v1-Figure7-1.png',\n",
       " '1103.3105v1-Figure14-1.png',\n",
       " '1103.3160v2-Figure4-1.png',\n",
       " '1103.3698v2-Figure2-1.png',\n",
       " '1103.3719v1-Figure2-1.png',\n",
       " '1103.3735v1-Figure1-1.png',\n",
       " '1103.3735v1-Figure3-1.png',\n",
       " '1103.4016v1-Figure4-1.png',\n",
       " '1103.4086v3-Figure8-1.png',\n",
       " '1103.4406v1-Figure6-1.png',\n",
       " '1103.4496v1-Figure3-1.png',\n",
       " '1103.4659v1-Figure3-1.png',\n",
       " '1103.4787v2-Figure4-1.png',\n",
       " '1103.4875v2-Figure26-1.png',\n",
       " '1103.5348v3-Figure4-1.png',\n",
       " '1103.5586v1-Figure4-1.png',\n",
       " '1103.5689v1-Figure17-1.png',\n",
       " '1103.5764v1-Figure8-1.png',\n",
       " '1103.5946v1-Figure5-1.png',\n",
       " '1104.0235v1-Figure2.2-1.png',\n",
       " '1104.0395v2-Figure5-1.png',\n",
       " '1104.0478v1-Figure5-1.png',\n",
       " '1104.0478v1-Figure9-1.png',\n",
       " '1104.0752v1-Figure1-1.png',\n",
       " '1104.0752v1-Figure7-1.png',\n",
       " '1104.0752v1-Figure9-1.png',\n",
       " '1104.0753v3-Figure5-1.png',\n",
       " '1104.0906v2-Figure1-1.png',\n",
       " '1104.1031v1-Figure2-1.png',\n",
       " '1104.1745v1-Figure4-1.png',\n",
       " '1104.2049v1-Figure7-1.png',\n",
       " '1104.2355v4-Figure4-1.png',\n",
       " '1104.2355v4-Figure8-1.png',\n",
       " '1104.2599v5-Figure3-1.png',\n",
       " '1104.2824v1-Figure2-1.png',\n",
       " '1104.3207v3-Figure2-1.png',\n",
       " '1104.3208v1-Figure3-1.png',\n",
       " '1104.3213v1-Figure7-1.png',\n",
       " '1104.3250v1-Figure2-1.png',\n",
       " '1104.3497v1-Figure3-1.png',\n",
       " '1104.3497v1-Figure4-1.png',\n",
       " '1104.3561v2-Figure5-1.png',\n",
       " '1104.4295v1-Figure8-1.png',\n",
       " '1104.4544v1-Figure3-1.png',\n",
       " '1104.4618v2-Figure8-1.png',\n",
       " '1104.4911v1-Figure1-1.png',\n",
       " '1104.4927v1-Figure13-1.png',\n",
       " '1104.4927v1-Figure14-1.png',\n",
       " '1104.5384v3-Figure3-1.png',\n",
       " '1104.5510v1-Figure7-1.png',\n",
       " '1104.5616v2-Figure5-1.png',\n",
       " '1105.0011v1-Figure4-1.png',\n",
       " '1105.0032v1-Figure23-1.png',\n",
       " '1105.0215v1-Figure3-1.png',\n",
       " '1105.0286v1-Figure10-1.png',\n",
       " '1105.0377v1-Figure4-1.png',\n",
       " '1105.0703v3-Figure1-1.png',\n",
       " '1105.0703v3-Figure5-1.png',\n",
       " '1105.0785v1-Figure2-1.png',\n",
       " '1105.0830v2-Figure8-1.png',\n",
       " '1105.0902v1-Figure9-1.png',\n",
       " '1105.1421v5-Figure1-1-1.png',\n",
       " '1105.1891v2-Figure4-1.png',\n",
       " '1105.1982v1-Figure3-1.png',\n",
       " '1105.2311v4-Figure4-1.png',\n",
       " '1105.2942v2-Figure8-1.png',\n",
       " '1105.2960v1-Figure3-1.png',\n",
       " '1105.3416v1-Figure8-1.png',\n",
       " '1105.3459v1-Figure5-1.png',\n",
       " '1105.3686v1-Figure2-1.png',\n",
       " '1105.3977v2-Figure7-1.png',\n",
       " '1105.4044v1-Figure7-1.png',\n",
       " '1105.4125v1-Figure5-1.png',\n",
       " '1105.4252v1-Figure8-1.png',\n",
       " '1105.4340v1-Figure3-1.png',\n",
       " '1105.5080v1-Figure6-1.png',\n",
       " '1105.5080v1-Figure7-1.png',\n",
       " '1105.5294v3-Figure1-1.png',\n",
       " '1105.5457v1-Figure18-1.png',\n",
       " '1105.5516v3-Figure1-1.png',\n",
       " '1105.5553v3-Figure5-1.png',\n",
       " '1105.5736v1-Figure23-1.png',\n",
       " '1105.5881v2-Figure2-1.png',\n",
       " '1105.5941v1-Figure6-1.png',\n",
       " '1105.6084v2-Figure14-1.png',\n",
       " '1105.6199v1-Figure2-1.png',\n",
       " '1105.6205v1-Figure2-1.png',\n",
       " '1105.6307v1-Figure4-1.png',\n",
       " '1105.6331v1-Figure2-1.png',\n",
       " '1106.0178v2-Figure5-1.png',\n",
       " '1106.0218v1-Figure1-1.png',\n",
       " '1106.0223v1-Figure11-1.png',\n",
       " '1106.0666v2-Figure13-1.png',\n",
       " '1106.0681v1-Figure20-1.png',\n",
       " '1106.0733v1-Figure3-1.png',\n",
       " '1106.0733v1-Figure4-1.png',\n",
       " '1106.0760v1-Figure4-1.png',\n",
       " '1106.0846v1-Figure16-1.png',\n",
       " '1106.0846v1-Figure17-1.png',\n",
       " '1106.0934v1-Figure6-1.png',\n",
       " '1106.1199v1-Figure13-1.png',\n",
       " '1106.1286v1-FigureV-1.png',\n",
       " '1106.1445v8-Figure21.5-1.png',\n",
       " '1106.1445v8-Figure24.2-1.png',\n",
       " '1106.1445v8-Figure9.3-1.png',\n",
       " '1106.1697v1-Figure4-1.png',\n",
       " '1106.1813v1-Figure16-1.png',\n",
       " '1106.1813v1-Figure18-1.png',\n",
       " '1106.1813v1-Figure21-1.png',\n",
       " '1106.1813v1-Figure27-1.png',\n",
       " '1106.1953v6-Figure3-1.png',\n",
       " '1106.1953v6-Figure4-1.png',\n",
       " '1106.2077v1-Figure2-1.png',\n",
       " '1106.3629v1-Figure4-1.png',\n",
       " '1106.3652v5-Figure9-1.png',\n",
       " '1106.3858v1-Figure4-1.png',\n",
       " '1106.4096v1-Figure4-1.png',\n",
       " '1106.4557v1-Figure4-1.png',\n",
       " '1106.4557v1-Figure6-1.png',\n",
       " '1106.4571v1-Figure15-1.png',\n",
       " '1106.4575v1-Figure2-1.png',\n",
       " '1106.4985v1-Figure8-1.png',\n",
       " '1106.5112v1-Figure5-1.png',\n",
       " '1106.5150v2-Figure2-1.png',\n",
       " '1106.5158v1-Figure5-1.png',\n",
       " '1106.5253v1-Figure6-1.png',\n",
       " '1106.5321v1-Figure1-1.png',\n",
       " '1106.5321v1-Figure7-1.png',\n",
       " '1106.5364v1-Figure6-1.png',\n",
       " '1106.5367v1-Figure6-1.png',\n",
       " '1106.5562v1-Figure1-1.png',\n",
       " '1106.5694v2-Figure1-1.png',\n",
       " '1106.6173v1-Figure1-1.png',\n",
       " '1107.0020v1-Figure15-1.png',\n",
       " '1107.0078v3-Figure4-1.png',\n",
       " '1107.0078v3-Figure7-1.png',\n",
       " '1107.0098v3-Figure5-1.png',\n",
       " '1107.0416v1-Figure12-1.png',\n",
       " '1107.1089v3-Figure7-1.png',\n",
       " '1107.1158v3-Figure2-1.png',\n",
       " '1107.1158v3-Figure3-1.png',\n",
       " '1107.1437v2-Figure25-1.png',\n",
       " '1107.1437v2-Figure26-1.png',\n",
       " '1107.1731v2-Figure4-1.png',\n",
       " '1107.1821v1-Figure3-1.png',\n",
       " '1107.2085v1-Figure1-1.png',\n",
       " '1107.2101v2-Figure5-1.png',\n",
       " '1107.2101v2-Figure7-1.png',\n",
       " '1107.2509v3-Figure4-1.png',\n",
       " '1107.2867v1-Figure3-1.png',\n",
       " '1107.2976v3-Figure8-1.png',\n",
       " '1107.3231v1-Figure8-1.png',\n",
       " '1107.3263v2-Figure4-1.png',\n",
       " '1107.3656v1-Figure6-1.png',\n",
       " '1107.3667v1-Figure9-1.png',\n",
       " '1107.3729v1-Figure3-1.png',\n",
       " '1107.3862v2-Figure9-1.png',\n",
       " '1107.4016v1-Figure10-1.png',\n",
       " '1107.4161v1-Figure2-1.png',\n",
       " '1107.4189v1-Figure5-1.png',\n",
       " '1107.4346v1-Figure4-1.png',\n",
       " '1107.4900v1-Figure3-1.png',\n",
       " '1107.5349v1-Figure2.12-1.png',\n",
       " '1107.5851v1-Figure14-1.png',\n",
       " '1107.5851v1-Figure6-1.png',\n",
       " '1107.5870v1-Figure9-1.png',\n",
       " '1108.0024v1-Figure7-1.png',\n",
       " '1108.0477v2-Figure2-1.png',\n",
       " '1108.0786v1-Figure11-1.png',\n",
       " '1108.0786v1-Figure8-1.png',\n",
       " '1108.1066v1-Figure2-1.png',\n",
       " '1108.1361v1-Figure1-1.png',\n",
       " '1108.1367v1-Figure9-1.png',\n",
       " '1108.1425v1-Figure6-1.png',\n",
       " '1108.1522v3-Figure5-1.png',\n",
       " '1108.1631v1-Figure12-1.png',\n",
       " '1108.1631v1-Figure9-1.png',\n",
       " '1108.1656v2-Figure2-1.png',\n",
       " '1108.1956v1-Figure12-1.png',\n",
       " '1108.2045v1-Figure4-1.png',\n",
       " '1108.2152v1-Figure5-1.png',\n",
       " '1108.2357v1-Figure4-1.png',\n",
       " '1108.2580v2-Figure2-1.png',\n",
       " '1108.2820v2-Figure1-1.png',\n",
       " '1108.2905v1-Figure4-1.png',\n",
       " '1108.3259v1-Figure5-1.png',\n",
       " '1108.3285v1-Figure8-1.png',\n",
       " '1108.3405v1-Figure20-1.png',\n",
       " '1108.3446v2-Figure1-1.png',\n",
       " '1108.3901v1-Figure2-1.png',\n",
       " '1108.4096v1-Figure5-1.png',\n",
       " '1108.4216v2-Figure1-1.png',\n",
       " '1108.4336v1-Figure3-1.png',\n",
       " '1108.4445v1-Figure8-1.png',\n",
       " '1108.4828v1-Figure4-1.png',\n",
       " '1108.4879v1-Figure4-1.png',\n",
       " '1108.4972v1-Figure1-1.png',\n",
       " '1108.4973v9-Figure14-1.png',\n",
       " '1108.5543v1-Figure8-1.png',\n",
       " '1108.5575v1-Figure4-1.png',\n",
       " '1108.5724v1-Figure2-1.png',\n",
       " '1108.6254v1-Figure12-1.png',\n",
       " '1109.0059v1-Figure7-1.png',\n",
       " '1109.0085v1-Figure2-1.png',\n",
       " '1109.0507v1-Figure4-1.png',\n",
       " '1109.0923v1-Figure2-1.png',\n",
       " '1109.1248v1-Figure5-1.png',\n",
       " '1109.1248v1-Figure7-1.png',\n",
       " '1109.1264v1-Figure4-1.png',\n",
       " '1109.1605v1-Figure4-1.png',\n",
       " '1109.2142v1-Figure9-1.png',\n",
       " '1109.2146v1-Figure11-1.png',\n",
       " '1109.2147v1-Figure6-1.png',\n",
       " '1109.2355v1-Figure21-1.png',\n",
       " '1109.2638v1-Figure5-1.png',\n",
       " '1109.2957v1-Figure9-1.png',\n",
       " '1109.2964v1-Figure3-1.png',\n",
       " '1109.3069v3-Figure3-1.png',\n",
       " '1109.3510v3-Figure5-1.png',\n",
       " '1109.3524v2-Figure4-1.png',\n",
       " '1109.3739v2-Figure5.3-1.png',\n",
       " '1109.3739v2-Figure5.9-1.png',\n",
       " '1109.3876v1-Figure12-1.png',\n",
       " '1109.3876v1-Figure13-1.png',\n",
       " '1109.4074v2-Figure4-1.png',\n",
       " '1109.4074v2-Figure5-1.png',\n",
       " '1109.4350v1-Figure6-1.png',\n",
       " '1109.4587v2-Figure6-1.png',\n",
       " '1109.4587v2-Figure7-1.png',\n",
       " '1109.4590v1-Figure5-1.png',\n",
       " '1109.4627v1-Figure2-1.png',\n",
       " '1109.4631v2-Figure19-1.png',\n",
       " '1109.5111v2-Figure1-1.png',\n",
       " '1109.5490v2-Figure4-1.png',\n",
       " '1109.5913v1-Figure11-1.png',\n",
       " '1109.6052v1-Figure26-1.png',\n",
       " '1109.6263v1-Figure1-1.png',\n",
       " '1109.6269v2-Figure4-1.png',\n",
       " '1109.6369v1-Figure2-1.png',\n",
       " '1109.6369v1-Figure3-1.png',\n",
       " '1109.6369v1-Figure5-1.png',\n",
       " '1109.6505v1-Figure4-1.png',\n",
       " '1109.6638v2-Figure3-1.png',\n",
       " '1109.6717v1-Figure4-1.png',\n",
       " '1109.6884v1-Figure13-1.png',\n",
       " '1110.0436v1-Figure9-1.png',\n",
       " '1110.0564v2-Figure3-1.png',\n",
       " '1110.0593v1-Figure3.4-1.png',\n",
       " '1110.0937v1-Figure2-1.png',\n",
       " '1110.1131v1-Figure6-1.png',\n",
       " '1110.1259v1-Figure9-1.png',\n",
       " '1110.1347v1-Figure1-1.png',\n",
       " '1110.1462v1-Figure3-1.png',\n",
       " '1110.1485v1-Figure10-1.png',\n",
       " '1110.1494v1-Figure11-1.png',\n",
       " '1110.1514v1-Figure2-1.png',\n",
       " '1110.1553v1-Figure3-1.png',\n",
       " '1110.1685v1-Figure4.6-1.png',\n",
       " '1110.1685v1-Figure4.7-1.png',\n",
       " '1110.1802v3-Figure5-1.png',\n",
       " '1110.2074v1-Figure5-1.png',\n",
       " '1110.2200v1-Figure6-1.png',\n",
       " '1110.2215v1-Figure5-1.png',\n",
       " '1110.2477v1-Figure9-1.png',\n",
       " '1110.2561v1-Figure2-1.png',\n",
       " '1110.2736v1-Figure5-1.png',\n",
       " '1110.3531v1-Figure4-1.png',\n",
       " '1110.3535v1-Figure2-1.png',\n",
       " '1110.3860v1-Figure7-1.png',\n",
       " '1110.4126v1-Figure2-1.png',\n",
       " '1110.4613v1-Figure3-1.png',\n",
       " '1110.4613v1-Figure7-1.png',\n",
       " '1110.4723v1-Figure3-1.png',\n",
       " '1110.6298v1-Figure5-1.png',\n",
       " '1110.6698v1-Figure5-1.png',\n",
       " '1110.6778v1-Figure2-1.png',\n",
       " '1111.0158v1-Figure5-1.png',\n",
       " '1111.0242v1-Figure2-1.png',\n",
       " '1111.0503v1-Figure6-1.png',\n",
       " '1111.0503v1-Figure8-1.png',\n",
       " '1111.0711v1-Figure9-1.png',\n",
       " '1111.1353v1-FigureB.2-1.png',\n",
       " '1111.1386v1-Figure6-1.png',\n",
       " '1111.2111v2-Figure6-1.png',\n",
       " '1111.3200v1-Figure4-1.png',\n",
       " '1111.3376v1-Figure4-1.png',\n",
       " '1111.3618v1-Figure2-1.png',\n",
       " '1111.4287v1-Figure2-1.png',\n",
       " '1111.4499v1-Figure6-1.png',\n",
       " '1111.4503v1-Figure8-1.png',\n",
       " '1111.4624v3-Figure6-1.png',\n",
       " '1111.4626v2-Figure3-1.png',\n",
       " '1111.4898v1-Figure11-1.png',\n",
       " '1111.5379v2-Figure7-1.png',\n",
       " '1111.5382v1-Figure2-1.png',\n",
       " '1111.5612v1-Figure12-1.png',\n",
       " '1111.5735v1-Figure5-1.png',\n",
       " '1111.6201v4-Figure5-1.png',\n",
       " '1111.6539v1-Figure2-1.png',\n",
       " '1111.6549v1-Figure2-1.png',\n",
       " '1111.6640v1-Figure4-1.png',\n",
       " '1111.6677v1-Figure5-1.png',\n",
       " '1111.6825v1-Figure7-1.png',\n",
       " '1111.6849v1-Figure3-1.png',\n",
       " '1111.7164v1-Figure2-1.png',\n",
       " '1112.0416v2-Figure6-1.png',\n",
       " '1112.1010v4-Figure9-1.png',\n",
       " '1112.1051v1-Figure4-1.png',\n",
       " '1112.1141v1-Figure6-1.png',\n",
       " '1112.1143v1-Figure10-1.png',\n",
       " '1112.1201v1-Figure2-1.png',\n",
       " '1112.1217v1-Figure14-1.png',\n",
       " '1112.1517v4-Figure2-1.png',\n",
       " '1112.2234v1-Figure10-1.png',\n",
       " '1112.2619v1-Table3-1.png',\n",
       " '1112.2774v1-Table1-1.png',\n",
       " '1112.4035v1-Figure7-1.png',\n",
       " '1112.4210v1-Figure12-1.png',\n",
       " '1112.4451v2-Figure2-1.png',\n",
       " '1112.4456v1-Figure3-1.png',\n",
       " '1112.4631v2-Figure3-1.png',\n",
       " '1112.4811v1-Figure7-1.png',\n",
       " '1112.4915v1-Figure15-1.png',\n",
       " '1112.5152v1-Figure1-1.png',\n",
       " '1112.5352v3-Figure3-1.png',\n",
       " '1112.5534v1-Figure8-1.png',\n",
       " '1112.5799v1-Figure4-1.png',\n",
       " '1112.5980v2-Figure13-1.png',\n",
       " '1112.6117v1-Figure10-1.png',\n",
       " '1201.0070v1-Figure7-1.png',\n",
       " '1201.0215v1-Figure5-1.png',\n",
       " '1201.0228v1-Figure6-1.png',\n",
       " '1201.0357v1-Figure3-1.png',\n",
       " '1201.0357v1-Figure7-1.png',\n",
       " '1201.0423v1-Figure4-1.png',\n",
       " '1201.0426v1-Figure2-1.png',\n",
       " '1201.0830v1-Figure16-1.png',\n",
       " '1201.0901v2-Figure2-1.png',\n",
       " '1201.0917v1-Figure8-1.png',\n",
       " '1201.1363v2-Figure8-1.png',\n",
       " '1201.1970v1-Figure11-1.png',\n",
       " '1201.2004v1-Figure11-1.png',\n",
       " '1201.2237v1-Figure3-1.png',\n",
       " '1201.2240v1-Figure2-1.png',\n",
       " '1201.2395v2-Figure5-1.png',\n",
       " '1201.2711v3-Figure1-1.png',\n",
       " '1201.2953v3-Figure6-1.png',\n",
       " '1201.3120v3-Figure8.2-1.png',\n",
       " '1201.3140v2-Figure10-1.png',\n",
       " '1201.3140v2-Figure7-1.png',\n",
       " '1201.3153v1-Figure5-1.png',\n",
       " '1201.3210v1-Figure10-1.png',\n",
       " '1201.3731v2-Figure6-1.png',\n",
       " '1201.3782v1-Figure7-1.png',\n",
       " '1201.3869v3-Figure7-1.png',\n",
       " '1201.3900v1-Figure3-1.png',\n",
       " '1201.3915v5-Figure5-1.png',\n",
       " '1201.3960v1-Figure3.10-1.png',\n",
       " '1201.4049v1-Figure5-1.png',\n",
       " '1201.4214v1-Figure8-1.png',\n",
       " '1201.4553v1-Figure4-1.png',\n",
       " '1201.4787v1-Figure6-1.png',\n",
       " '1201.4793v1-Figure6-1.png',\n",
       " '1201.4793v1-Figure9-1.png',\n",
       " '1201.5621v2-Figure2-1.png',\n",
       " '1201.6034v1-Figure3-1.png',\n",
       " '1201.6034v1-Figure7-1.png',\n",
       " '1201.6035v1-Figure6.1-1.png',\n",
       " '1201.6257v1-Figure6-1.png',\n",
       " '1201.6388v1-Figure1-1.png',\n",
       " '1201.6565v1-Figure6-1.png',\n",
       " '1201.6685v1-Figure5-1.png',\n",
       " '1202.0031v1-Figure8-1.png',\n",
       " '1202.0207v1-Figure2-1.png',\n",
       " '1202.0298v2-Figure1-1.png',\n",
       " '1202.0298v2-Figure4-1.png',\n",
       " '1202.0327v1-Figure10-1.png',\n",
       " '1202.0460v1-Figure5-1.png',\n",
       " '1202.0460v1-Figure7-1.png',\n",
       " '1202.0607v2-Figure5-1.png',\n",
       " '1202.0747v2-Figure17-1.png',\n",
       " '1202.0813v2-Figure3-1.png',\n",
       " '1202.0936v1-Figure4-1.png',\n",
       " '1202.1120v1-Figure2-1.png',\n",
       " '1202.1332v6-Figure5-1.png',\n",
       " '1202.1348v2-Figure1-1.png',\n",
       " '1202.1464v1-Figure12-1.png',\n",
       " '1202.1909v1-Figure1-1.png',\n",
       " '1202.1918v1-Figure8-1.png',\n",
       " '1202.1992v1-Figure4-1.png',\n",
       " '1202.2018v1-Figure7-1.png',\n",
       " '1202.2175v3-Figure8-1.png',\n",
       " '1202.2215v1-Figure6-1.png',\n",
       " '1202.2412v1-Figure9-1.png',\n",
       " '1202.2461v3-Figure2-1.png',\n",
       " '1202.2684v2-Figure3-1.png',\n",
       " '1202.2803v1-Figure6-1.png',\n",
       " '1202.2826v2-Figure15-1.png',\n",
       " '1202.2998v2-Figure2-1.png',\n",
       " '1202.3021v1-Figure3-1.png',\n",
       " '1202.3021v1-Figure5-1.png',\n",
       " '1202.3021v1-Figure6-1.png',\n",
       " '1202.3021v1-Figure8-1.png',\n",
       " '1202.3253v1-Figure4-1.png',\n",
       " '1202.3510v2-Figure2-1.png',\n",
       " '1202.3510v2-Figure3-1.png',\n",
       " '1202.3510v2-Figure4-1.png',\n",
       " '1202.3643v2-Figure16-1.png',\n",
       " '1202.3728v1-Figure4-1.png',\n",
       " '1202.3746v1-Figure1-1.png',\n",
       " '1202.4180v1-Figure8-1.png',\n",
       " '1202.4423v1-Figure9-1.png',\n",
       " '1202.4533v1-Figure10-1.png',\n",
       " '1202.4533v1-Figure20-1.png',\n",
       " '1202.4664v5-Figure4-1.png',\n",
       " '1202.5349v2-Figure3-1.png',\n",
       " '1202.5544v1-Figure5-1.png',\n",
       " '1202.5657v1-Figure8-1.png',\n",
       " '1202.5680v1-Figure17-1.png',\n",
       " '1202.5689v1-Figure2-1.png',\n",
       " '1202.5689v1-Figure6-1.png',\n",
       " '1202.5722v1-Figure8-1.png',\n",
       " '1202.6120v1-Table1-1.png',\n",
       " '1202.6136v1-Figure10-1.png',\n",
       " '1202.6136v1-Figure3-1.png',\n",
       " '1202.6141v3-Figure9-1.png',\n",
       " '1202.6158v1-Figure9-1.png',\n",
       " '1202.6404v2-Figure9-1.png',\n",
       " '1203.0055v1-Figure7-1.png',\n",
       " '1203.0096v1-Figure6-1.png',\n",
       " '1203.0788v1-Figure7-1.png',\n",
       " '1203.1757v1-Figure6-1.png',\n",
       " '1203.2109v2-Figure6-1.png',\n",
       " '1203.2169v1-Figure10-1.png',\n",
       " '1203.2268v2-Figure3-1.png',\n",
       " '1203.2268v2-Figure4-1.png',\n",
       " '1203.2570v1-Figure2-1.png',\n",
       " '1203.3240v1-Figure21-1.png',\n",
       " '1203.3240v1-Figure24-1.png',\n",
       " '1203.3240v1-Figure4-1.png',\n",
       " '1203.3240v1-Figure8-1.png',\n",
       " '1203.3258v1-Figure10-1.png',\n",
       " '1203.3258v1-Figure7-1.png',\n",
       " '1203.3506v1-Figure1-1.png',\n",
       " '1203.3528v1-Figure4-1.png',\n",
       " '1203.3619v1-Figure2-1.png',\n",
       " '1203.3704v1-Figure11-1.png',\n",
       " '1203.3870v1-Figure4-1.png',\n",
       " '1203.3879v1-Figure14-1.png',\n",
       " '1203.3967v2-Figure100-1.png',\n",
       " '1203.3967v2-Figure101-1.png',\n",
       " '1203.3967v2-Figure102-1.png',\n",
       " '1203.3967v2-Figure151-1.png',\n",
       " '1203.3967v2-Figure164-1.png',\n",
       " '1203.3967v2-Figure181-1.png',\n",
       " '1203.3967v2-Figure19-1.png',\n",
       " '1203.3967v2-Figure190-1.png',\n",
       " '1203.3967v2-Figure201-1.png',\n",
       " '1203.3967v2-Figure209-1.png',\n",
       " '1203.3967v2-Figure264-1.png',\n",
       " '1203.3967v2-Figure289-1.png',\n",
       " '1203.3967v2-Figure320-1.png',\n",
       " '1203.3967v2-Figure380-1.png',\n",
       " '1203.3967v2-Figure414-1.png',\n",
       " '1203.3967v2-Figure422-1.png',\n",
       " '1203.3967v2-Figure432-1.png',\n",
       " '1203.3967v2-Figure461-1.png',\n",
       " '1203.3967v2-Figure480-1.png',\n",
       " '1203.3967v2-Figure9-1.png',\n",
       " '1203.3967v2-Figure90-1.png',\n",
       " '1203.3967v2-Figure92-1.png',\n",
       " '1203.3997v1-Figure8-1.png',\n",
       " '1203.4474v1-Figure4-1.png',\n",
       " '1203.4626v4-Figure1-1.png',\n",
       " '1203.4693v1-Figure12-1.png',\n",
       " '1203.4756v1-Figure9.11-1.png',\n",
       " '1203.4870v2-Figure3-1.png',\n",
       " '1203.5128v2-Figure9-1.png',\n",
       " '1203.5324v1-Figure3-1.png',\n",
       " '1203.5378v1-Figure5-1.png',\n",
       " '1203.5737v1-Figure4-1.png',\n",
       " '1203.5871v3-Figure9-1.png',\n",
       " '1203.6030v1-Figure5-1.png',\n",
       " '1203.6406v1-Figure3-1.png',\n",
       " '1203.6673v1-Figure6-1.png',\n",
       " '1204.0127v1-Figure14-1.png',\n",
       " '1204.0127v1-Figure3-1.png',\n",
       " '1204.0556v2-Figure5-1.png',\n",
       " '1204.0556v2-Figure7-1.png',\n",
       " '1204.0590v1-Figure2-1.png',\n",
       " '1204.0684v1-Figure4-1.png',\n",
       " '1204.0839v3-Figure5-1.png',\n",
       " '1204.0905v1-Figure3-1.png',\n",
       " '1204.1206v1-Figure14-1.png',\n",
       " '1204.1206v1-Figure15-1.png',\n",
       " '1204.1206v1-Figure20-1.png',\n",
       " '1204.1207v1-Figure14-1.png',\n",
       " '1204.1207v1-Figure16-1.png',\n",
       " '1204.1207v1-Figure25-1.png',\n",
       " '1204.1207v1-Figure27-1.png',\n",
       " '1204.1290v1-Figure6-1.png',\n",
       " '1204.1425v1-Figure3-1.png',\n",
       " '1204.1561v1-Figure1-1.png',\n",
       " '1204.1595v1-Figure1-1.png',\n",
       " '1204.1615v1-Figure5-1.png',\n",
       " '1204.1658v1-Figure8-1.png',\n",
       " '1204.1808v1-Figure4-1.png',\n",
       " '1204.1815v1-Figure13-1.png',\n",
       " '1204.1851v2-Figure3-1.png',\n",
       " '1204.1935v1-Figure5-1.png',\n",
       " '1204.2009v4-Figure2-1.png',\n",
       " '1204.2033v1-Figure1-1.png',\n",
       " '1204.2035v2-Figure11-1.png',\n",
       " '1204.2280v1-Figure2-1.png',\n",
       " '1204.2649v1-Figure3-1.png',\n",
       " '1204.2651v1-Figure7-1.png',\n",
       " '1204.2676v2-Figure2-1.png',\n",
       " '1204.2927v2-Figure1-1.png',\n",
       " '1204.3251v2-Figure6-1.png',\n",
       " '1204.3494v1-Figure8-1.png',\n",
       " '1204.3516v1-Figure8-1.png',\n",
       " '1204.3618v1-Figure3-1.png',\n",
       " '1204.3677v1-Figure6-1.png',\n",
       " '1204.3719v3-Figure2-1.png',\n",
       " '1204.3742v1-Figure2-1.png',\n",
       " '1204.3752v1-Figure1-1.png',\n",
       " '1204.4071v1-Figure8-1.png',\n",
       " '1204.4071v1-Figure9-1.png',\n",
       " '1204.4202v1-Figure1-1.png',\n",
       " '1204.4346v1-Figure2-1.png',\n",
       " '1204.4459v1-Figure7-1.png',\n",
       " '1204.4465v1-Figure5-1.png',\n",
       " '1204.4647v2-Figure6-1.png',\n",
       " '1204.5136v1-Figure2-1.png',\n",
       " '1204.5592v1-Figure8-1.png',\n",
       " '1204.5710v1-Figure1-1.png',\n",
       " '1204.5839v1-Figure9-1.png',\n",
       " '1204.6080v1-Figure4-1.png',\n",
       " '1204.6105v3-Figure6-1.png',\n",
       " '1204.6181v1-Figure2-1.png',\n",
       " '1204.6304v1-Figure8-1.png',\n",
       " '1204.6341v2-Figure4-1.png',\n",
       " '1204.6364v1-Figure5-1.png',\n",
       " '1204.6509v1-Figure2-1.png',\n",
       " '1204.6623v1-Figure4-1.png',\n",
       " '1205.0003v1-Figure1-1.png',\n",
       " '1205.0149v1-Figure1-1.png',\n",
       " '1205.0699v2-Figure10-1.png',\n",
       " '1205.0820v1-Figure5-1.png',\n",
       " '1205.0837v1-Figure6-1.png',\n",
       " '1205.1357v1-Figure6-1.png',\n",
       " '1205.1496v2-Figure2-1.png',\n",
       " '1205.1618v1-Figure3-1.png',\n",
       " '1205.1633v1-Figure6-1.png',\n",
       " '1205.1633v1-Figure8-1.png',\n",
       " '1205.1657v1-Figure4-1.png',\n",
       " '1205.1731v1-Figure3-1.png',\n",
       " '1205.1765v2-Figure4-1.png',\n",
       " '1205.1765v2-Figure7-1.png',\n",
       " '1205.1886v1-Figure11-1.png',\n",
       " ...]"
      ]
     },
     "execution_count": 13,
     "metadata": {},
     "output_type": "execute_result"
    }
   ],
   "source": [
    "file_idx_test\n",
    "file_idx_train\n",
    "file_idx_val\n"
   ]
  },
  {
   "cell_type": "code",
   "execution_count": 14,
   "id": "bcce3509-c177-4956-91fd-8b064f630f68",
   "metadata": {},
   "outputs": [
    {
     "name": "stdout",
     "output_type": "stream",
     "text": [
      "['test', 'train', 'val']\n"
     ]
    }
   ],
   "source": [
    "print(os.listdir('List-of-Files-for-Each-Experiments/Caption-No-More-Than-100-Tokens/Yes-Subfig'))\n"
   ]
  },
  {
   "cell_type": "code",
   "execution_count": 15,
   "id": "b6689a61-16d1-4590-a3c9-0b85ebebe383",
   "metadata": {},
   "outputs": [
    {
     "name": "stdout",
     "output_type": "stream",
     "text": [
      "['.DS_Store', 'test', 'train', 'val']\n"
     ]
    }
   ],
   "source": [
    "print(os.listdir('List-of-Files-for-Each-Experiments/Caption-No-More-Than-100-Tokens/No-Subfig'))"
   ]
  },
  {
   "cell_type": "code",
   "execution_count": 16,
   "id": "68b888bc-c346-4f12-90af-25bf41eaff60",
   "metadata": {},
   "outputs": [
    {
     "name": "stdout",
     "output_type": "stream",
     "text": [
      "['file_idx.json']\n"
     ]
    }
   ],
   "source": [
    "print(os.listdir('List-of-Files-for-Each-Experiments/Caption-No-More-Than-100-Tokens/No-Subfig/train'))"
   ]
  },
  {
   "cell_type": "markdown",
   "id": "25192800-b2af-4db4-9ce1-47a23509dd8e",
   "metadata": {},
   "source": [
    "# SciCap-Caption-All"
   ]
  },
  {
   "cell_type": "code",
   "execution_count": 17,
   "id": "f3b322f7-6b9b-41c8-b9e1-743540423442",
   "metadata": {},
   "outputs": [
    {
     "name": "stdout",
     "output_type": "stream",
     "text": [
      "['test', 'train', 'val']\n"
     ]
    }
   ],
   "source": [
    "print(os.listdir('SciCap-Caption-All'))"
   ]
  },
  {
   "cell_type": "code",
   "execution_count": 18,
   "id": "55fea610-3fd9-4ff4-ae75-5189fc9fd024",
   "metadata": {},
   "outputs": [
    {
     "name": "stdout",
     "output_type": "stream",
     "text": [
      "['1803.07821v1-Figure2-1.json', '1607.08220v1-Figure4-1.json', '2002.03746v1-Figure10-1.json', '1312.0042v1-Figure9-1.json', '1704.03939v1-Figure3-1.json', '2010.05031v1-Figure4-1.json', '1308.3558v1-Figure1-1.json', '1901.03115v1-Figure7-1.json', '2008.08847v1-Figure6-1.json', '1508.03601v1-Figure4-1.json']\n"
     ]
    }
   ],
   "source": [
    "print(os.listdir('SciCap-Caption-All/train')[:10])"
   ]
  },
  {
   "cell_type": "code",
   "execution_count": 19,
   "id": "2b029604-d4e3-43e9-968a-7fea1eee4624",
   "metadata": {},
   "outputs": [
    {
     "name": "stdout",
     "output_type": "stream",
     "text": [
      "['2008.00584v1-Figure2-1.json', '1908.01292v2-Figure3-1.json', '1406.2392v1-Figure4-1.json', '2006.15946v1-Figure5-1.json', '1410.6909v1-Figure14-1.json', '1912.07366v1-Figure2-1.json', '1611.08728v1-Figure2-1.json', '1702.03907v1-Figure7-1.json', '1809.00232v1-Figure4-1.json', '2009.04338v1-Figure6-1.json']\n"
     ]
    }
   ],
   "source": [
    "print(os.listdir ('SciCap-Caption-All/val')[:10])\n"
   ]
  },
  {
   "cell_type": "code",
   "execution_count": 20,
   "id": "9b24dacd-9895-489c-8e63-155e6861475e",
   "metadata": {},
   "outputs": [],
   "source": [
    "with open(\"SciCap-Caption-All/train/1607.08220v1-Figure4-1.json\",'r') as file:\n",
    "    test_ = json.load(file)"
   ]
  },
  {
   "cell_type": "code",
   "execution_count": 21,
   "id": "c6bd897f-97af-4553-96c3-cce87aff0254",
   "metadata": {},
   "outputs": [
    {
     "data": {
      "text/plain": [
       "8"
      ]
     },
     "execution_count": 21,
     "metadata": {},
     "output_type": "execute_result"
    }
   ],
   "source": [
    "len(test_)"
   ]
  },
  {
   "cell_type": "code",
   "execution_count": 22,
   "id": "f790dfcb-1ed4-4d80-b953-b9c2d5981dfc",
   "metadata": {},
   "outputs": [
    {
     "data": {
      "text/plain": [
       "dict_keys(['contains-subfigure', 'Img-text', 'paper-ID', 'figure-ID', 'figure-type', '0-originally-extracted', '1-lowercase-and-token-and-remove-figure-index', '2-normalized'])"
      ]
     },
     "execution_count": 22,
     "metadata": {},
     "output_type": "execute_result"
    }
   ],
   "source": [
    "test_.keys()"
   ]
  },
  {
   "cell_type": "code",
   "execution_count": 23,
   "id": "f6493d78-3e97-4cb5-bf38-d79bef844766",
   "metadata": {},
   "outputs": [
    {
     "data": {
      "text/plain": [
       "dict_keys(['contains-subfigure', 'Img-text', 'paper-ID', 'figure-ID', 'figure-type', '0-originally-extracted', '1-lowercase-and-token-and-remove-figure-index', '2-normalized'])"
      ]
     },
     "execution_count": 23,
     "metadata": {},
     "output_type": "execute_result"
    }
   ],
   "source": [
    "test_.keys()\n"
   ]
  },
  {
   "cell_type": "code",
   "execution_count": 24,
   "id": "42eb383b-97e5-45a6-95d4-dffa10e6321f",
   "metadata": {},
   "outputs": [
    {
     "data": {
      "text/plain": [
       "True"
      ]
     },
     "execution_count": 24,
     "metadata": {},
     "output_type": "execute_result"
    }
   ],
   "source": [
    "test_['contains-subfigure']\n"
   ]
  },
  {
   "cell_type": "markdown",
   "id": "3adae825-2c3f-4ed9-a97c-af25d65282aa",
   "metadata": {},
   "source": [
    "# meta data for all the papers used to create the data set"
   ]
  },
  {
   "cell_type": "code",
   "execution_count": 24,
   "id": "4236ebd1-a24d-4937-bd9d-5522e7199523",
   "metadata": {},
   "outputs": [],
   "source": [
    "meta_data = []\n",
    "with open(\"arxiv-metadata-oai-snapshot.json\", \"r\") as file:\n",
    "    for line in file:\n",
    "        try:\n",
    "            data = json.loads(line)\n",
    "            meta_data.append(data)\n",
    "        except json.JSONDecodeError as e:\n",
    "            print(f\"Error decoding JSON: {e}\")\n",
    "\n"
   ]
  },
  {
   "cell_type": "code",
   "execution_count": 25,
   "id": "24a3ec64-f258-4fbc-8d4d-fd9d787ac7c7",
   "metadata": {},
   "outputs": [
    {
     "data": {
      "text/plain": [
       "{'id': '0704.0001',\n",
       " 'submitter': 'Pavel Nadolsky',\n",
       " 'authors': \"C. Bal\\\\'azs, E. L. Berger, P. M. Nadolsky, C.-P. Yuan\",\n",
       " 'title': 'Calculation of prompt diphoton production cross sections at Tevatron and\\n  LHC energies',\n",
       " 'comments': '37 pages, 15 figures; published version',\n",
       " 'journal-ref': 'Phys.Rev.D76:013009,2007',\n",
       " 'doi': '10.1103/PhysRevD.76.013009',\n",
       " 'report-no': 'ANL-HEP-PR-07-12',\n",
       " 'categories': 'hep-ph',\n",
       " 'license': None,\n",
       " 'abstract': '  A fully differential calculation in perturbative quantum chromodynamics is\\npresented for the production of massive photon pairs at hadron colliders. All\\nnext-to-leading order perturbative contributions from quark-antiquark,\\ngluon-(anti)quark, and gluon-gluon subprocesses are included, as well as\\nall-orders resummation of initial-state gluon radiation valid at\\nnext-to-next-to-leading logarithmic accuracy. The region of phase space is\\nspecified in which the calculation is most reliable. Good agreement is\\ndemonstrated with data from the Fermilab Tevatron, and predictions are made for\\nmore detailed tests with CDF and DO data. Predictions are shown for\\ndistributions of diphoton pairs produced at the energy of the Large Hadron\\nCollider (LHC). Distributions of the diphoton pairs from the decay of a Higgs\\nboson are contrasted with those produced from QCD processes at the LHC, showing\\nthat enhanced sensitivity to the signal can be obtained with judicious\\nselection of events.\\n',\n",
       " 'versions': [{'version': 'v1', 'created': 'Mon, 2 Apr 2007 19:18:42 GMT'},\n",
       "  {'version': 'v2', 'created': 'Tue, 24 Jul 2007 20:10:27 GMT'}],\n",
       " 'update_date': '2008-11-26',\n",
       " 'authors_parsed': [['Balázs', 'C.', ''],\n",
       "  ['Berger', 'E. L.', ''],\n",
       "  ['Nadolsky', 'P. M.', ''],\n",
       "  ['Yuan', 'C. -P.', '']]}"
      ]
     },
     "execution_count": 25,
     "metadata": {},
     "output_type": "execute_result"
    }
   ],
   "source": [
    "meta_data[0] # data for papers "
   ]
  },
  {
   "cell_type": "markdown",
   "id": "482a499f-db7a-4af5-a133-e15f63301f52",
   "metadata": {},
   "source": [
    "# sample image "
   ]
  },
  {
   "cell_type": "code",
   "execution_count": 25,
   "id": "89f31b6c-adc7-419f-abd6-cfab047893eb",
   "metadata": {},
   "outputs": [
    {
     "name": "stdout",
     "output_type": "stream",
     "text": [
      "['.DS_Store', 'List-of-Files-for-Each-Experiments', 'logfile.log', 'SciCap-Caption-All', 'arxiv-metadata-oai-snapshot.json', '.ipynb_checkpoints', 'data_analysis.ipynb', 'SciCap-No-Subfig-Img', 'SciCap-Yes-Subfig-Img']\n"
     ]
    }
   ],
   "source": [
    "print(os.listdir())"
   ]
  },
  {
   "cell_type": "code",
   "execution_count": 26,
   "id": "be2b916b-9876-4317-852e-1f09b3d4f6a6",
   "metadata": {},
   "outputs": [
    {
     "name": "stdout",
     "output_type": "stream",
     "text": [
      "['test', 'train', 'val']\n"
     ]
    }
   ],
   "source": [
    "print(os.listdir('SciCap-No-Subfig-Img'))"
   ]
  },
  {
   "cell_type": "code",
   "execution_count": 27,
   "id": "ffda66c3-dc3e-4b63-ba19-bdfc325e5836",
   "metadata": {},
   "outputs": [
    {
     "name": "stdout",
     "output_type": "stream",
     "text": [
      "['2002.09106v1-Figure4-1.png', '2003.14069v1-Figure4-1.png', '1911.09143v1-Figure5-1.png', '1612.01506v1-Figure5-1.png', '1411.7101v1-Figure4-1.png', '1606.00478v1-Figure2-1.png', '1210.0160v2-Figure12-1.png', '2004.00414v1-Figure7-1.png', '1706.02798v1-Figure7-1.png', '1507.00695v2-Figure4-1.png']\n"
     ]
    }
   ],
   "source": [
    "print(os.listdir('SciCap-No-Subfig-Img/train')[:10])"
   ]
  },
  {
   "cell_type": "code",
   "execution_count": 28,
   "id": "bd155b88-c903-4304-905c-cf19453159e7",
   "metadata": {},
   "outputs": [
    {
     "name": "stdout",
     "output_type": "stream",
     "text": [
      "1411.7101v1-Figure4-1\n"
     ]
    }
   ],
   "source": [
    "image_file = '1411.7101v1-Figure4-1.png'\n",
    "image_base = os.path.splitext(image_file)[0]\n",
    "print(image_base)"
   ]
  },
  {
   "cell_type": "code",
   "execution_count": 29,
   "id": "ea046d61-520a-430d-9eaf-059522085a49",
   "metadata": {},
   "outputs": [
    {
     "name": "stdout",
     "output_type": "stream",
     "text": [
      "1411.7101v1-Figure4-1.png\n"
     ]
    }
   ],
   "source": [
    "for file in file_idx_train:\n",
    "    if file == image_file:\n",
    "        print(file)"
   ]
  },
  {
   "cell_type": "code",
   "execution_count": 30,
   "id": "d3bb3c36-5c89-4508-8737-b9709e7a052f",
   "metadata": {},
   "outputs": [],
   "source": [
    "img = plt.imread(f\"SciCap-No-Subfig-Img/train/{image_file}\")"
   ]
  },
  {
   "cell_type": "code",
   "execution_count": 31,
   "id": "24785262-41c9-4af0-98cd-b236414c89a3",
   "metadata": {},
   "outputs": [
    {
     "data": {
      "image/png": "[encoded data removed]",
      "text/plain": [
       "<Figure size 640x480 with 1 Axes>"
      ]
     },
     "metadata": {},
     "output_type": "display_data"
    }
   ],
   "source": [
    "plt.imshow(img)\n",
    "plt.axis('off')\n",
    "plt.show()"
   ]
  },
  {
   "cell_type": "markdown",
   "id": "56a4b430-ebea-407c-9bd6-9943af145f63",
   "metadata": {},
   "source": [
    "## caption of above image"
   ]
  },
  {
   "cell_type": "code",
   "execution_count": 32,
   "id": "37afd0b0-bcbb-4a77-baba-1da833423f6a",
   "metadata": {},
   "outputs": [
    {
     "name": "stdout",
     "output_type": "stream",
     "text": [
      "Found matching file: ./SciCap-Caption-All/train/1411.7101v1-Figure4-1.json\n",
      "dict_keys(['contains-subfigure', 'Img-text', 'paper-ID', 'figure-ID', 'figure-type', '0-originally-extracted', '1-lowercase-and-token-and-remove-figure-index', '2-normalized'])\n"
     ]
    }
   ],
   "source": [
    "# image_file\n",
    "# for captions in os.walk()\n",
    "for root, direc , files in os.walk(\".\"):\n",
    "    # print(root)\n",
    "    # print(file)\n",
    "    if root == \"./SciCap-Caption-All/train\":\n",
    "        for f in files:\n",
    "            # print(type(f))\n",
    "            if f.endswith(\".json\"):\n",
    "                file_base = os.path.splitext(f)[0]\n",
    "                # print(f)\n",
    "                # f_ = f.split(\".\")[0]\n",
    "                # print(f_)\n",
    "                # imf_ = image_file.split(\".\")[0]\n",
    "                # print(imf_)\n",
    "                if file_base == image_base:\n",
    "                    print(f\"Found matching file: {os.path.join(root, f)}\")\n",
    "                    json_match_path = os.path.join(root,f)\n",
    "\n",
    "if json_match_path:\n",
    "    with open(json_match_path,'r') as f:\n",
    "        json_match = json.load(f)\n",
    "        print(json_match.keys())\n",
    "        "
   ]
  },
  {
   "cell_type": "code",
   "execution_count": 33,
   "id": "f5750241-d083-47d5-b840-e450fa8f30da",
   "metadata": {},
   "outputs": [
    {
     "data": {
      "text/plain": [
       "False"
      ]
     },
     "execution_count": 33,
     "metadata": {},
     "output_type": "execute_result"
    }
   ],
   "source": [
    "json_match['contains-subfigure']"
   ]
  },
  {
   "cell_type": "code",
   "execution_count": 34,
   "id": "8e86e168-b4f8-47fd-8582-56ae4ff8ce12",
   "metadata": {},
   "outputs": [
    {
     "data": {
      "text/plain": [
       "[]"
      ]
     },
     "execution_count": 34,
     "metadata": {},
     "output_type": "execute_result"
    }
   ],
   "source": [
    "json_match['Img-text']"
   ]
  },
  {
   "cell_type": "code",
   "execution_count": 35,
   "id": "3c9d0a64-1a51-465a-b4b7-013a9e7316dd",
   "metadata": {},
   "outputs": [
    {
     "data": {
      "text/plain": [
       "'1411.7101v1'"
      ]
     },
     "execution_count": 35,
     "metadata": {},
     "output_type": "execute_result"
    }
   ],
   "source": [
    "json_match['paper-ID']"
   ]
  },
  {
   "cell_type": "code",
   "execution_count": 36,
   "id": "8e177eab-6803-4143-9332-c8df21d3a178",
   "metadata": {},
   "outputs": [
    {
     "data": {
      "text/plain": [
       "'1411.7101v1-Figure4-1.png'"
      ]
     },
     "execution_count": 36,
     "metadata": {},
     "output_type": "execute_result"
    }
   ],
   "source": [
    "json_match['figure-ID']"
   ]
  },
  {
   "cell_type": "code",
   "execution_count": 37,
   "id": "390c9284-5371-44e7-ba54-1717317fd437",
   "metadata": {},
   "outputs": [
    {
     "data": {
      "text/plain": [
       "'Graph Plot'"
      ]
     },
     "execution_count": 37,
     "metadata": {},
     "output_type": "execute_result"
    }
   ],
   "source": [
    "json_match['figure-type']"
   ]
  },
  {
   "cell_type": "code",
   "execution_count": 38,
   "id": "081e50e1-7985-4e1f-b791-71712cab816a",
   "metadata": {},
   "outputs": [
    {
     "data": {
      "text/plain": [
       "'Figure 4: Convergence of Instance C18 over a computational time limit of 5 hours'"
      ]
     },
     "execution_count": 38,
     "metadata": {},
     "output_type": "execute_result"
    }
   ],
   "source": [
    "json_match['0-originally-extracted']"
   ]
  },
  {
   "cell_type": "code",
   "execution_count": 39,
   "id": "00ee91a5-71cd-40fd-9c3b-f6f29766ccae",
   "metadata": {},
   "outputs": [
    {
     "data": {
      "text/plain": [
       "{'caption': 'convergence of instance c18 over a computational time limit of 5 hours .',\n",
       " 'sentence': ['convergence of instance c18 over a computational time limit of 5 hours .'],\n",
       " 'token': ['convergence',\n",
       "  'of',\n",
       "  'instance',\n",
       "  'c18',\n",
       "  'over',\n",
       "  'a',\n",
       "  'computational',\n",
       "  'time',\n",
       "  'limit',\n",
       "  'of',\n",
       "  '5',\n",
       "  'hours',\n",
       "  '.']}"
      ]
     },
     "execution_count": 39,
     "metadata": {},
     "output_type": "execute_result"
    }
   ],
   "source": [
    "json_match['1-lowercase-and-token-and-remove-figure-index']"
   ]
  },
  {
   "cell_type": "code",
   "execution_count": 40,
   "id": "0b60b348-e7d6-4ec0-a526-964631b61722",
   "metadata": {},
   "outputs": [
    {
     "data": {
      "text/plain": [
       "{'2-1-basic-num': {'caption': 'convergence of instance c18 over a computational time limit of NUM-TK hours .',\n",
       "  'sentence': ['convergence of instance c18 over a computational time limit of NUM-TK hours .'],\n",
       "  'token': ['convergence',\n",
       "   'of',\n",
       "   'instance',\n",
       "   'c18',\n",
       "   'over',\n",
       "   'a',\n",
       "   'computational',\n",
       "   'time',\n",
       "   'limit',\n",
       "   'of',\n",
       "   'NUM-TK',\n",
       "   'hours',\n",
       "   '.']},\n",
       " '2-2-advanced-euqation-bracket': {'caption': 'convergence of instance c18 over a computational time limit of NUM hours .',\n",
       "  'sentence': ['convergence of instance c18 over a computational time limit of NUM hours .'],\n",
       "  'tokens': ['convergence',\n",
       "   'of',\n",
       "   'instance',\n",
       "   'c18',\n",
       "   'over',\n",
       "   'a',\n",
       "   'computational',\n",
       "   'time',\n",
       "   'limit',\n",
       "   'of',\n",
       "   'NUM',\n",
       "   'hours',\n",
       "   '.']}}"
      ]
     },
     "execution_count": 40,
     "metadata": {},
     "output_type": "execute_result"
    }
   ],
   "source": [
    "json_match['2-normalized']"
   ]
  },
  {
   "cell_type": "markdown",
   "id": "fbf175d7-7939-4f82-9b2f-c15e50855687",
   "metadata": {},
   "source": [
    "# caption meta data "
   ]
  },
  {
   "cell_type": "code",
   "execution_count": 41,
   "id": "ecc4cf37-4114-41e7-9b19-5c4cfc11fb32",
   "metadata": {},
   "outputs": [
    {
     "data": {
      "text/plain": [
       "'SciCap-Caption-All'"
      ]
     },
     "execution_count": 41,
     "metadata": {},
     "output_type": "execute_result"
    }
   ],
   "source": [
    "root = [x for x in os.listdir() if x == \"SciCap-Caption-All\"][0]\n",
    "root"
   ]
  },
  {
   "cell_type": "code",
   "execution_count": 42,
   "id": "6be20e5a-c2ac-42ab-990b-2329f72b4048",
   "metadata": {},
   "outputs": [
    {
     "name": "stderr",
     "output_type": "stream",
     "text": [
      "0it [00:00, ?it/s]\n",
      "100%|███████████████████████████████████████████████████████████████████████████████████████| 41682/41682 [00:08<00:00, 5083.14it/s]\n",
      "100%|█████████████████████████████████████████████████████████████████████████████████████| 333442/333442 [01:19<00:00, 4209.64it/s]\n",
      "100%|███████████████████████████████████████████████████████████████████████████████████████| 41680/41680 [00:09<00:00, 4331.20it/s]\n"
     ]
    }
   ],
   "source": [
    "total_number_of_files = 0\n",
    "final_key_count = {}\n",
    "captions_meta_data = pd.DataFrame()\n",
    "\n",
    "captions_meta_data_list = []\n",
    "        \n",
    "for r, d, files in os.walk(root):\n",
    "    for f in tqdm(files):\n",
    "        logger.info(f\"Picked up file ---{f}\")\n",
    "        try:\n",
    "            if f.endswith(\".json\"):\n",
    "                json_f = read_json(os.path.join(r, f))\n",
    "                if total_number_of_files == 0:\n",
    "                    captions_meta_data = pd.DataFrame(columns=json_f.keys())\n",
    "                captions_meta_data_list.append(json_f)\n",
    "                total_number_of_files += 1\n",
    "        except Exception as e:\n",
    "            logger.error(f\"Exception occurred for file ref --{f}: {e}\")\n",
    "\n",
    "if captions_meta_data_list:\n",
    "    captions_meta_data = pd.concat([pd.DataFrame([data]) for data in captions_meta_data_list], ignore_index=True)\n",
    "\n"
   ]
  },
  {
   "cell_type": "code",
   "execution_count": 43,
   "id": "eafb06d4-183a-4267-a9c3-2ee8689c4831",
   "metadata": {},
   "outputs": [
    {
     "data": {
      "text/html": [
       "<div>\n",
       "<style scoped>\n",
       "    .dataframe tbody tr th:only-of-type {\n",
       "        vertical-align: middle;\n",
       "    }\n",
       "\n",
       "    .dataframe tbody tr th {\n",
       "        vertical-align: top;\n",
       "    }\n",
       "\n",
       "    .dataframe thead th {\n",
       "        text-align: right;\n",
       "    }\n",
       "</style>\n",
       "<table border=\"1\" class=\"dataframe\">\n",
       "  <thead>\n",
       "    <tr style=\"text-align: right;\">\n",
       "      <th></th>\n",
       "      <th>contains-subfigure</th>\n",
       "      <th>Img-text</th>\n",
       "      <th>paper-ID</th>\n",
       "      <th>figure-ID</th>\n",
       "      <th>figure-type</th>\n",
       "      <th>0-originally-extracted</th>\n",
       "      <th>1-lowercase-and-token-and-remove-figure-index</th>\n",
       "      <th>2-normalized</th>\n",
       "    </tr>\n",
       "  </thead>\n",
       "  <tbody>\n",
       "    <tr>\n",
       "      <th>0</th>\n",
       "      <td>True</td>\n",
       "      <td>[box, without, box, S, E, R, M, 0.12, 0.1, 0.0...</td>\n",
       "      <td>2006.00601v2</td>\n",
       "      <td>2006.00601v2-Figure7-1.png</td>\n",
       "      <td>Graph Plot</td>\n",
       "      <td>Figure 7. The effects of the box constraint in...</td>\n",
       "      <td>{'caption': 'the effects of the box constraint...</td>\n",
       "      <td>{'2-1-basic-num': {'caption': 'the effects of ...</td>\n",
       "    </tr>\n",
       "    <tr>\n",
       "      <th>1</th>\n",
       "      <td>True</td>\n",
       "      <td>[one, MPI, process, per, node, one, MPI, proce...</td>\n",
       "      <td>1106.5908v1</td>\n",
       "      <td>1106.5908v1-Figure10-1.png</td>\n",
       "      <td>Graph Plot</td>\n",
       "      <td>Figure 10: Strong scaling performance data for...</td>\n",
       "      <td>{'caption': 'strong scaling performance data f...</td>\n",
       "      <td>{'2-1-basic-num': {'caption': 'strong scaling ...</td>\n",
       "    </tr>\n",
       "    <tr>\n",
       "      <th>2</th>\n",
       "      <td>True</td>\n",
       "      <td>[(p), Result, 8, Lineage  size  , w.r.t.  Scal...</td>\n",
       "      <td>1412.1069v1</td>\n",
       "      <td>1412.1069v1-Figure5-1.png</td>\n",
       "      <td>Graph Plot</td>\n",
       "      <td>Figure 5: Timing results: (a)-(c) For increasi...</td>\n",
       "      <td>{'caption': 'timing results : ( a ) - ( c ) fo...</td>\n",
       "      <td>{'2-1-basic-num': {'caption': 'timing results ...</td>\n",
       "    </tr>\n",
       "    <tr>\n",
       "      <th>3</th>\n",
       "      <td>False</td>\n",
       "      <td>[The, partial, offloading, mode, The, binary, ...</td>\n",
       "      <td>1806.04589v2</td>\n",
       "      <td>1806.04589v2-Figure4-1.png</td>\n",
       "      <td>Graph Plot</td>\n",
       "      <td>Fig. 4: The weighted sum computation bits of a...</td>\n",
       "      <td>{'caption': 'the weighted sum computation bits...</td>\n",
       "      <td>{'2-1-basic-num': {'caption': 'the weighted su...</td>\n",
       "    </tr>\n",
       "    <tr>\n",
       "      <th>4</th>\n",
       "      <td>False</td>\n",
       "      <td>[ηharqK,4(snr), η5(snr), ηharqK,5(snr), η4(snr...</td>\n",
       "      <td>1606.05177v1</td>\n",
       "      <td>1606.05177v1-Figure3-1.png</td>\n",
       "      <td>Graph Plot</td>\n",
       "      <td>Fig. 3. In slow-fading channels, decision regi...</td>\n",
       "      <td>{'caption': 'in slow-fading channels , decisio...</td>\n",
       "      <td>{'2-1-basic-num': {'caption': 'in slow-fading ...</td>\n",
       "    </tr>\n",
       "  </tbody>\n",
       "</table>\n",
       "</div>"
      ],
      "text/plain": [
       "   contains-subfigure                                           Img-text  \\\n",
       "0                True  [box, without, box, S, E, R, M, 0.12, 0.1, 0.0...   \n",
       "1                True  [one, MPI, process, per, node, one, MPI, proce...   \n",
       "2                True  [(p), Result, 8, Lineage  size  , w.r.t.  Scal...   \n",
       "3               False  [The, partial, offloading, mode, The, binary, ...   \n",
       "4               False  [ηharqK,4(snr), η5(snr), ηharqK,5(snr), η4(snr...   \n",
       "\n",
       "       paper-ID                   figure-ID figure-type  \\\n",
       "0  2006.00601v2  2006.00601v2-Figure7-1.png  Graph Plot   \n",
       "1   1106.5908v1  1106.5908v1-Figure10-1.png  Graph Plot   \n",
       "2   1412.1069v1   1412.1069v1-Figure5-1.png  Graph Plot   \n",
       "3  1806.04589v2  1806.04589v2-Figure4-1.png  Graph Plot   \n",
       "4  1606.05177v1  1606.05177v1-Figure3-1.png  Graph Plot   \n",
       "\n",
       "                              0-originally-extracted  \\\n",
       "0  Figure 7. The effects of the box constraint in...   \n",
       "1  Figure 10: Strong scaling performance data for...   \n",
       "2  Figure 5: Timing results: (a)-(c) For increasi...   \n",
       "3  Fig. 4: The weighted sum computation bits of a...   \n",
       "4  Fig. 3. In slow-fading channels, decision regi...   \n",
       "\n",
       "       1-lowercase-and-token-and-remove-figure-index  \\\n",
       "0  {'caption': 'the effects of the box constraint...   \n",
       "1  {'caption': 'strong scaling performance data f...   \n",
       "2  {'caption': 'timing results : ( a ) - ( c ) fo...   \n",
       "3  {'caption': 'the weighted sum computation bits...   \n",
       "4  {'caption': 'in slow-fading channels , decisio...   \n",
       "\n",
       "                                        2-normalized  \n",
       "0  {'2-1-basic-num': {'caption': 'the effects of ...  \n",
       "1  {'2-1-basic-num': {'caption': 'strong scaling ...  \n",
       "2  {'2-1-basic-num': {'caption': 'timing results ...  \n",
       "3  {'2-1-basic-num': {'caption': 'the weighted su...  \n",
       "4  {'2-1-basic-num': {'caption': 'in slow-fading ...  "
      ]
     },
     "execution_count": 43,
     "metadata": {},
     "output_type": "execute_result"
    }
   ],
   "source": [
    "captions_meta_data.head(5)"
   ]
  },
  {
   "cell_type": "code",
   "execution_count": 44,
   "id": "7ad77227-0567-46f3-8c7b-fb0efdc982ba",
   "metadata": {},
   "outputs": [
    {
     "data": {
      "text/plain": [
       "(416804, 8)"
      ]
     },
     "execution_count": 44,
     "metadata": {},
     "output_type": "execute_result"
    }
   ],
   "source": [
    "captions_meta_data.shape"
   ]
  },
  {
   "cell_type": "code",
   "execution_count": 45,
   "id": "15d2e5f2-589e-4aef-9786-2197819a0413",
   "metadata": {},
   "outputs": [
    {
     "data": {
      "text/plain": [
       "Index(['contains-subfigure', 'Img-text', 'paper-ID', 'figure-ID',\n",
       "       'figure-type', '0-originally-extracted',\n",
       "       '1-lowercase-and-token-and-remove-figure-index', '2-normalized'],\n",
       "      dtype='object')"
      ]
     },
     "execution_count": 45,
     "metadata": {},
     "output_type": "execute_result"
    }
   ],
   "source": [
    "captions_meta_data.columns"
   ]
  },
  {
   "cell_type": "markdown",
   "id": "3e766314-2e11-4853-8290-8df97f2680f8",
   "metadata": {},
   "source": [
    "# Type of images "
   ]
  },
  {
   "cell_type": "code",
   "execution_count": 48,
   "id": "43dfcd38-810c-44bf-8520-c34c77e23150",
   "metadata": {},
   "outputs": [],
   "source": [
    "captions_meta_data.to_excel(\"captions_meta_data_19_may_24.xlsx\",index=False)"
   ]
  },
  {
   "cell_type": "code",
   "execution_count": 49,
   "id": "725079c1-cc47-42d3-8097-a9dba931f836",
   "metadata": {},
   "outputs": [
    {
     "data": {
      "text/plain": [
       "contains-subfigure\n",
       "True     283261\n",
       "False    133543\n",
       "Name: count, dtype: int64"
      ]
     },
     "execution_count": 49,
     "metadata": {},
     "output_type": "execute_result"
    }
   ],
   "source": [
    "captions_meta_data['contains-subfigure'].value_counts()"
   ]
  },
  {
   "cell_type": "code",
   "execution_count": 50,
   "id": "1f6b7c2d-7169-4876-aa3f-1284b7037a8b",
   "metadata": {},
   "outputs": [
    {
     "data": {
      "text/plain": [
       "figure-type\n",
       "Graph Plot    416804\n",
       "Name: count, dtype: int64"
      ]
     },
     "execution_count": 50,
     "metadata": {},
     "output_type": "execute_result"
    }
   ],
   "source": [
    "captions_meta_data['figure-type'].value_counts()"
   ]
  },
  {
   "cell_type": "code",
   "execution_count": 52,
   "id": "6d9a7ccb-f198-468c-a481-51ac00be53e2",
   "metadata": {},
   "outputs": [
    {
     "data": {
      "text/plain": [
       "contains-subfigure                               0\n",
       "Img-text                                         0\n",
       "paper-ID                                         0\n",
       "figure-ID                                        0\n",
       "figure-type                                      0\n",
       "0-originally-extracted                           0\n",
       "1-lowercase-and-token-and-remove-figure-index    0\n",
       "2-normalized                                     0\n",
       "dtype: int64"
      ]
     },
     "execution_count": 52,
     "metadata": {},
     "output_type": "execute_result"
    }
   ],
   "source": [
    "captions_meta_data.isna().sum()"
   ]
  },
  {
   "cell_type": "code",
   "execution_count": 11,
   "id": "c878bcc7-9b72-4320-9068-b319e6286b2a",
   "metadata": {
    "scrolled": true
   },
   "outputs": [
    {
     "name": "stdout",
     "output_type": "stream",
     "text": [
      "<class 'list'>\n"
     ]
    },
    {
     "name": "stderr",
     "output_type": "stream",
     "text": [
      "0it [00:00, ?it/s]\n"
     ]
    },
    {
     "name": "stdout",
     "output_type": "stream",
     "text": [
      "<class 'list'>\n"
     ]
    },
    {
     "name": "stderr",
     "output_type": "stream",
     "text": [
      "  0%|                                                                                                         | 0/4 [00:00<?, ?it/s]2024-05-19 16:03:44,655 - __main__ - INFO - image_captions - Picked up file ---2006.00601v2-Figure7-1.json\n",
      "2024-05-19 16:03:44,656 - __main__ - INFO - image_captions - keys count ---8\n",
      "2024-05-19 16:03:44,657 - __main__ - INFO - image_captions - Picked up file ---1106.5908v1-Figure10-1.json\n",
      "2024-05-19 16:03:44,658 - __main__ - INFO - image_captions - keys count ---8\n",
      "2024-05-19 16:03:44,659 - __main__ - INFO - image_captions - Picked up file ---1412.1069v1-Figure5-1.json\n",
      "2024-05-19 16:03:44,660 - __main__ - INFO - image_captions - keys count ---8\n",
      "2024-05-19 16:03:44,661 - __main__ - INFO - image_captions - Picked up file ---1806.04589v2-Figure4-1.json\n",
      "2024-05-19 16:03:44,662 - __main__ - INFO - image_captions - keys count ---8\n",
      "100%|████████████████████████████████████████████████████████████████████████████████████████████████| 4/4 [00:00<00:00, 549.32it/s]"
     ]
    },
    {
     "name": "stdout",
     "output_type": "stream",
     "text": [
      "------------0------------\n",
      "contains-subfigure\n",
      "dict_keys([])\n",
      "--------1----------\n",
      "{'contains-subfigure': 1}\n",
      "------------0------------\n",
      "Img-text\n",
      "dict_keys(['contains-subfigure'])\n",
      "--------1----------\n",
      "{'contains-subfigure': 1, 'Img-text': 1}\n",
      "------------0------------\n",
      "paper-ID\n",
      "dict_keys(['contains-subfigure', 'Img-text'])\n",
      "--------1----------\n",
      "{'contains-subfigure': 1, 'Img-text': 1, 'paper-ID': 1}\n",
      "------------0------------\n",
      "figure-ID\n",
      "dict_keys(['contains-subfigure', 'Img-text', 'paper-ID'])\n",
      "--------1----------\n",
      "{'contains-subfigure': 1, 'Img-text': 1, 'paper-ID': 1, 'figure-ID': 1}\n",
      "------------0------------\n",
      "figure-type\n",
      "dict_keys(['contains-subfigure', 'Img-text', 'paper-ID', 'figure-ID'])\n",
      "--------1----------\n",
      "{'contains-subfigure': 1, 'Img-text': 1, 'paper-ID': 1, 'figure-ID': 1, 'figure-type': 1}\n",
      "------------0------------\n",
      "0-originally-extracted\n",
      "dict_keys(['contains-subfigure', 'Img-text', 'paper-ID', 'figure-ID', 'figure-type'])\n",
      "--------1----------\n",
      "{'contains-subfigure': 1, 'Img-text': 1, 'paper-ID': 1, 'figure-ID': 1, 'figure-type': 1, '0-originally-extracted': 1}\n",
      "------------0------------\n",
      "1-lowercase-and-token-and-remove-figure-index\n",
      "dict_keys(['contains-subfigure', 'Img-text', 'paper-ID', 'figure-ID', 'figure-type', '0-originally-extracted'])\n",
      "--------1----------\n",
      "{'contains-subfigure': 1, 'Img-text': 1, 'paper-ID': 1, 'figure-ID': 1, 'figure-type': 1, '0-originally-extracted': 1, '1-lowercase-and-token-and-remove-figure-index': 1}\n",
      "------------0------------\n",
      "2-normalized\n",
      "dict_keys(['contains-subfigure', 'Img-text', 'paper-ID', 'figure-ID', 'figure-type', '0-originally-extracted', '1-lowercase-and-token-and-remove-figure-index'])\n",
      "--------1----------\n",
      "{'contains-subfigure': 1, 'Img-text': 1, 'paper-ID': 1, 'figure-ID': 1, 'figure-type': 1, '0-originally-extracted': 1, '1-lowercase-and-token-and-remove-figure-index': 1, '2-normalized': 1}\n",
      "------------0------------\n",
      "contains-subfigure\n",
      "dict_keys(['contains-subfigure', 'Img-text', 'paper-ID', 'figure-ID', 'figure-type', '0-originally-extracted', '1-lowercase-and-token-and-remove-figure-index', '2-normalized'])\n",
      "--------2----------\n",
      "{'contains-subfigure': 2, 'Img-text': 1, 'paper-ID': 1, 'figure-ID': 1, 'figure-type': 1, '0-originally-extracted': 1, '1-lowercase-and-token-and-remove-figure-index': 1, '2-normalized': 1}\n",
      "------------0------------\n",
      "Img-text\n",
      "dict_keys(['contains-subfigure', 'Img-text', 'paper-ID', 'figure-ID', 'figure-type', '0-originally-extracted', '1-lowercase-and-token-and-remove-figure-index', '2-normalized'])\n",
      "--------2----------\n",
      "{'contains-subfigure': 2, 'Img-text': 2, 'paper-ID': 1, 'figure-ID': 1, 'figure-type': 1, '0-originally-extracted': 1, '1-lowercase-and-token-and-remove-figure-index': 1, '2-normalized': 1}\n",
      "------------0------------\n",
      "paper-ID\n",
      "dict_keys(['contains-subfigure', 'Img-text', 'paper-ID', 'figure-ID', 'figure-type', '0-originally-extracted', '1-lowercase-and-token-and-remove-figure-index', '2-normalized'])\n",
      "--------2----------\n",
      "{'contains-subfigure': 2, 'Img-text': 2, 'paper-ID': 2, 'figure-ID': 1, 'figure-type': 1, '0-originally-extracted': 1, '1-lowercase-and-token-and-remove-figure-index': 1, '2-normalized': 1}\n",
      "------------0------------\n",
      "figure-ID\n",
      "dict_keys(['contains-subfigure', 'Img-text', 'paper-ID', 'figure-ID', 'figure-type', '0-originally-extracted', '1-lowercase-and-token-and-remove-figure-index', '2-normalized'])\n",
      "--------2----------\n",
      "{'contains-subfigure': 2, 'Img-text': 2, 'paper-ID': 2, 'figure-ID': 2, 'figure-type': 1, '0-originally-extracted': 1, '1-lowercase-and-token-and-remove-figure-index': 1, '2-normalized': 1}\n",
      "------------0------------\n",
      "figure-type\n",
      "dict_keys(['contains-subfigure', 'Img-text', 'paper-ID', 'figure-ID', 'figure-type', '0-originally-extracted', '1-lowercase-and-token-and-remove-figure-index', '2-normalized'])\n",
      "--------2----------\n",
      "{'contains-subfigure': 2, 'Img-text': 2, 'paper-ID': 2, 'figure-ID': 2, 'figure-type': 2, '0-originally-extracted': 1, '1-lowercase-and-token-and-remove-figure-index': 1, '2-normalized': 1}\n",
      "------------0------------\n",
      "0-originally-extracted\n",
      "dict_keys(['contains-subfigure', 'Img-text', 'paper-ID', 'figure-ID', 'figure-type', '0-originally-extracted', '1-lowercase-and-token-and-remove-figure-index', '2-normalized'])\n",
      "--------2----------\n",
      "{'contains-subfigure': 2, 'Img-text': 2, 'paper-ID': 2, 'figure-ID': 2, 'figure-type': 2, '0-originally-extracted': 2, '1-lowercase-and-token-and-remove-figure-index': 1, '2-normalized': 1}\n",
      "------------0------------\n",
      "1-lowercase-and-token-and-remove-figure-index\n",
      "dict_keys(['contains-subfigure', 'Img-text', 'paper-ID', 'figure-ID', 'figure-type', '0-originally-extracted', '1-lowercase-and-token-and-remove-figure-index', '2-normalized'])\n",
      "--------2----------\n",
      "{'contains-subfigure': 2, 'Img-text': 2, 'paper-ID': 2, 'figure-ID': 2, 'figure-type': 2, '0-originally-extracted': 2, '1-lowercase-and-token-and-remove-figure-index': 2, '2-normalized': 1}\n",
      "------------0------------\n",
      "2-normalized\n",
      "dict_keys(['contains-subfigure', 'Img-text', 'paper-ID', 'figure-ID', 'figure-type', '0-originally-extracted', '1-lowercase-and-token-and-remove-figure-index', '2-normalized'])\n",
      "--------2----------\n",
      "{'contains-subfigure': 2, 'Img-text': 2, 'paper-ID': 2, 'figure-ID': 2, 'figure-type': 2, '0-originally-extracted': 2, '1-lowercase-and-token-and-remove-figure-index': 2, '2-normalized': 2}\n",
      "------------0------------\n",
      "contains-subfigure\n",
      "dict_keys(['contains-subfigure', 'Img-text', 'paper-ID', 'figure-ID', 'figure-type', '0-originally-extracted', '1-lowercase-and-token-and-remove-figure-index', '2-normalized'])\n",
      "--------2----------\n",
      "{'contains-subfigure': 3, 'Img-text': 2, 'paper-ID': 2, 'figure-ID': 2, 'figure-type': 2, '0-originally-extracted': 2, '1-lowercase-and-token-and-remove-figure-index': 2, '2-normalized': 2}\n",
      "------------0------------\n",
      "Img-text\n",
      "dict_keys(['contains-subfigure', 'Img-text', 'paper-ID', 'figure-ID', 'figure-type', '0-originally-extracted', '1-lowercase-and-token-and-remove-figure-index', '2-normalized'])\n",
      "--------2----------\n",
      "{'contains-subfigure': 3, 'Img-text': 3, 'paper-ID': 2, 'figure-ID': 2, 'figure-type': 2, '0-originally-extracted': 2, '1-lowercase-and-token-and-remove-figure-index': 2, '2-normalized': 2}\n",
      "------------0------------\n",
      "paper-ID\n",
      "dict_keys(['contains-subfigure', 'Img-text', 'paper-ID', 'figure-ID', 'figure-type', '0-originally-extracted', '1-lowercase-and-token-and-remove-figure-index', '2-normalized'])\n",
      "--------2----------\n",
      "{'contains-subfigure': 3, 'Img-text': 3, 'paper-ID': 3, 'figure-ID': 2, 'figure-type': 2, '0-originally-extracted': 2, '1-lowercase-and-token-and-remove-figure-index': 2, '2-normalized': 2}\n",
      "------------0------------\n",
      "figure-ID\n",
      "dict_keys(['contains-subfigure', 'Img-text', 'paper-ID', 'figure-ID', 'figure-type', '0-originally-extracted', '1-lowercase-and-token-and-remove-figure-index', '2-normalized'])\n",
      "--------2----------\n",
      "{'contains-subfigure': 3, 'Img-text': 3, 'paper-ID': 3, 'figure-ID': 3, 'figure-type': 2, '0-originally-extracted': 2, '1-lowercase-and-token-and-remove-figure-index': 2, '2-normalized': 2}\n",
      "------------0------------\n",
      "figure-type\n",
      "dict_keys(['contains-subfigure', 'Img-text', 'paper-ID', 'figure-ID', 'figure-type', '0-originally-extracted', '1-lowercase-and-token-and-remove-figure-index', '2-normalized'])\n",
      "--------2----------\n",
      "{'contains-subfigure': 3, 'Img-text': 3, 'paper-ID': 3, 'figure-ID': 3, 'figure-type': 3, '0-originally-extracted': 2, '1-lowercase-and-token-and-remove-figure-index': 2, '2-normalized': 2}\n",
      "------------0------------\n",
      "0-originally-extracted\n",
      "dict_keys(['contains-subfigure', 'Img-text', 'paper-ID', 'figure-ID', 'figure-type', '0-originally-extracted', '1-lowercase-and-token-and-remove-figure-index', '2-normalized'])\n",
      "--------2----------\n",
      "{'contains-subfigure': 3, 'Img-text': 3, 'paper-ID': 3, 'figure-ID': 3, 'figure-type': 3, '0-originally-extracted': 3, '1-lowercase-and-token-and-remove-figure-index': 2, '2-normalized': 2}\n",
      "------------0------------\n",
      "1-lowercase-and-token-and-remove-figure-index\n",
      "dict_keys(['contains-subfigure', 'Img-text', 'paper-ID', 'figure-ID', 'figure-type', '0-originally-extracted', '1-lowercase-and-token-and-remove-figure-index', '2-normalized'])\n",
      "--------2----------\n",
      "{'contains-subfigure': 3, 'Img-text': 3, 'paper-ID': 3, 'figure-ID': 3, 'figure-type': 3, '0-originally-extracted': 3, '1-lowercase-and-token-and-remove-figure-index': 3, '2-normalized': 2}\n",
      "------------0------------\n",
      "2-normalized\n",
      "dict_keys(['contains-subfigure', 'Img-text', 'paper-ID', 'figure-ID', 'figure-type', '0-originally-extracted', '1-lowercase-and-token-and-remove-figure-index', '2-normalized'])\n",
      "--------2----------\n",
      "{'contains-subfigure': 3, 'Img-text': 3, 'paper-ID': 3, 'figure-ID': 3, 'figure-type': 3, '0-originally-extracted': 3, '1-lowercase-and-token-and-remove-figure-index': 3, '2-normalized': 3}\n",
      "------------0------------\n",
      "contains-subfigure\n",
      "dict_keys(['contains-subfigure', 'Img-text', 'paper-ID', 'figure-ID', 'figure-type', '0-originally-extracted', '1-lowercase-and-token-and-remove-figure-index', '2-normalized'])\n",
      "--------2----------\n",
      "{'contains-subfigure': 4, 'Img-text': 3, 'paper-ID': 3, 'figure-ID': 3, 'figure-type': 3, '0-originally-extracted': 3, '1-lowercase-and-token-and-remove-figure-index': 3, '2-normalized': 3}\n",
      "------------0------------\n",
      "Img-text\n",
      "dict_keys(['contains-subfigure', 'Img-text', 'paper-ID', 'figure-ID', 'figure-type', '0-originally-extracted', '1-lowercase-and-token-and-remove-figure-index', '2-normalized'])\n",
      "--------2----------\n",
      "{'contains-subfigure': 4, 'Img-text': 4, 'paper-ID': 3, 'figure-ID': 3, 'figure-type': 3, '0-originally-extracted': 3, '1-lowercase-and-token-and-remove-figure-index': 3, '2-normalized': 3}\n",
      "------------0------------\n",
      "paper-ID\n",
      "dict_keys(['contains-subfigure', 'Img-text', 'paper-ID', 'figure-ID', 'figure-type', '0-originally-extracted', '1-lowercase-and-token-and-remove-figure-index', '2-normalized'])\n",
      "--------2----------\n",
      "{'contains-subfigure': 4, 'Img-text': 4, 'paper-ID': 4, 'figure-ID': 3, 'figure-type': 3, '0-originally-extracted': 3, '1-lowercase-and-token-and-remove-figure-index': 3, '2-normalized': 3}\n",
      "------------0------------\n",
      "figure-ID\n",
      "dict_keys(['contains-subfigure', 'Img-text', 'paper-ID', 'figure-ID', 'figure-type', '0-originally-extracted', '1-lowercase-and-token-and-remove-figure-index', '2-normalized'])\n",
      "--------2----------\n",
      "{'contains-subfigure': 4, 'Img-text': 4, 'paper-ID': 4, 'figure-ID': 4, 'figure-type': 3, '0-originally-extracted': 3, '1-lowercase-and-token-and-remove-figure-index': 3, '2-normalized': 3}\n",
      "------------0------------\n",
      "figure-type\n",
      "dict_keys(['contains-subfigure', 'Img-text', 'paper-ID', 'figure-ID', 'figure-type', '0-originally-extracted', '1-lowercase-and-token-and-remove-figure-index', '2-normalized'])\n",
      "--------2----------\n",
      "{'contains-subfigure': 4, 'Img-text': 4, 'paper-ID': 4, 'figure-ID': 4, 'figure-type': 4, '0-originally-extracted': 3, '1-lowercase-and-token-and-remove-figure-index': 3, '2-normalized': 3}\n",
      "------------0------------\n",
      "0-originally-extracted\n",
      "dict_keys(['contains-subfigure', 'Img-text', 'paper-ID', 'figure-ID', 'figure-type', '0-originally-extracted', '1-lowercase-and-token-and-remove-figure-index', '2-normalized'])\n",
      "--------2----------\n",
      "{'contains-subfigure': 4, 'Img-text': 4, 'paper-ID': 4, 'figure-ID': 4, 'figure-type': 4, '0-originally-extracted': 4, '1-lowercase-and-token-and-remove-figure-index': 3, '2-normalized': 3}\n",
      "------------0------------\n",
      "1-lowercase-and-token-and-remove-figure-index\n",
      "dict_keys(['contains-subfigure', 'Img-text', 'paper-ID', 'figure-ID', 'figure-type', '0-originally-extracted', '1-lowercase-and-token-and-remove-figure-index', '2-normalized'])\n",
      "--------2----------\n",
      "{'contains-subfigure': 4, 'Img-text': 4, 'paper-ID': 4, 'figure-ID': 4, 'figure-type': 4, '0-originally-extracted': 4, '1-lowercase-and-token-and-remove-figure-index': 4, '2-normalized': 3}\n",
      "------------0------------\n",
      "2-normalized\n",
      "dict_keys(['contains-subfigure', 'Img-text', 'paper-ID', 'figure-ID', 'figure-type', '0-originally-extracted', '1-lowercase-and-token-and-remove-figure-index', '2-normalized'])\n",
      "--------2----------\n",
      "{'contains-subfigure': 4, 'Img-text': 4, 'paper-ID': 4, 'figure-ID': 4, 'figure-type': 4, '0-originally-extracted': 4, '1-lowercase-and-token-and-remove-figure-index': 4, '2-normalized': 4}\n"
     ]
    },
    {
     "name": "stderr",
     "output_type": "stream",
     "text": [
      "\n"
     ]
    },
    {
     "name": "stdout",
     "output_type": "stream",
     "text": [
      "<class 'list'>\n"
     ]
    },
    {
     "name": "stderr",
     "output_type": "stream",
     "text": [
      "  0%|                                                                                                         | 0/4 [00:00<?, ?it/s]2024-05-19 16:03:45,024 - __main__ - INFO - image_captions - Picked up file ---1803.07821v1-Figure2-1.json\n",
      "2024-05-19 16:03:45,025 - __main__ - INFO - image_captions - keys count ---8\n",
      "2024-05-19 16:03:45,026 - __main__ - INFO - image_captions - Picked up file ---1607.08220v1-Figure4-1.json\n",
      "2024-05-19 16:03:45,026 - __main__ - INFO - image_captions - keys count ---8\n",
      "2024-05-19 16:03:45,027 - __main__ - INFO - image_captions - Picked up file ---2002.03746v1-Figure10-1.json\n",
      "2024-05-19 16:03:45,028 - __main__ - INFO - image_captions - keys count ---8\n",
      "2024-05-19 16:03:45,029 - __main__ - INFO - image_captions - Picked up file ---1312.0042v1-Figure9-1.json\n",
      "2024-05-19 16:03:45,030 - __main__ - INFO - image_captions - keys count ---8\n",
      "100%|████████████████████████████████████████████████████████████████████████████████████████████████| 4/4 [00:00<00:00, 621.70it/s]\n"
     ]
    },
    {
     "name": "stdout",
     "output_type": "stream",
     "text": [
      "------------0------------\n",
      "contains-subfigure\n",
      "dict_keys(['contains-subfigure', 'Img-text', 'paper-ID', 'figure-ID', 'figure-type', '0-originally-extracted', '1-lowercase-and-token-and-remove-figure-index', '2-normalized'])\n",
      "--------2----------\n",
      "{'contains-subfigure': 5, 'Img-text': 4, 'paper-ID': 4, 'figure-ID': 4, 'figure-type': 4, '0-originally-extracted': 4, '1-lowercase-and-token-and-remove-figure-index': 4, '2-normalized': 4}\n",
      "------------0------------\n",
      "Img-text\n",
      "dict_keys(['contains-subfigure', 'Img-text', 'paper-ID', 'figure-ID', 'figure-type', '0-originally-extracted', '1-lowercase-and-token-and-remove-figure-index', '2-normalized'])\n",
      "--------2----------\n",
      "{'contains-subfigure': 5, 'Img-text': 5, 'paper-ID': 4, 'figure-ID': 4, 'figure-type': 4, '0-originally-extracted': 4, '1-lowercase-and-token-and-remove-figure-index': 4, '2-normalized': 4}\n",
      "------------0------------\n",
      "paper-ID\n",
      "dict_keys(['contains-subfigure', 'Img-text', 'paper-ID', 'figure-ID', 'figure-type', '0-originally-extracted', '1-lowercase-and-token-and-remove-figure-index', '2-normalized'])\n",
      "--------2----------\n",
      "{'contains-subfigure': 5, 'Img-text': 5, 'paper-ID': 5, 'figure-ID': 4, 'figure-type': 4, '0-originally-extracted': 4, '1-lowercase-and-token-and-remove-figure-index': 4, '2-normalized': 4}\n",
      "------------0------------\n",
      "figure-ID\n",
      "dict_keys(['contains-subfigure', 'Img-text', 'paper-ID', 'figure-ID', 'figure-type', '0-originally-extracted', '1-lowercase-and-token-and-remove-figure-index', '2-normalized'])\n",
      "--------2----------\n",
      "{'contains-subfigure': 5, 'Img-text': 5, 'paper-ID': 5, 'figure-ID': 5, 'figure-type': 4, '0-originally-extracted': 4, '1-lowercase-and-token-and-remove-figure-index': 4, '2-normalized': 4}\n",
      "------------0------------\n",
      "figure-type\n",
      "dict_keys(['contains-subfigure', 'Img-text', 'paper-ID', 'figure-ID', 'figure-type', '0-originally-extracted', '1-lowercase-and-token-and-remove-figure-index', '2-normalized'])\n",
      "--------2----------\n",
      "{'contains-subfigure': 5, 'Img-text': 5, 'paper-ID': 5, 'figure-ID': 5, 'figure-type': 5, '0-originally-extracted': 4, '1-lowercase-and-token-and-remove-figure-index': 4, '2-normalized': 4}\n",
      "------------0------------\n",
      "0-originally-extracted\n",
      "dict_keys(['contains-subfigure', 'Img-text', 'paper-ID', 'figure-ID', 'figure-type', '0-originally-extracted', '1-lowercase-and-token-and-remove-figure-index', '2-normalized'])\n",
      "--------2----------\n",
      "{'contains-subfigure': 5, 'Img-text': 5, 'paper-ID': 5, 'figure-ID': 5, 'figure-type': 5, '0-originally-extracted': 5, '1-lowercase-and-token-and-remove-figure-index': 4, '2-normalized': 4}\n",
      "------------0------------\n",
      "1-lowercase-and-token-and-remove-figure-index\n",
      "dict_keys(['contains-subfigure', 'Img-text', 'paper-ID', 'figure-ID', 'figure-type', '0-originally-extracted', '1-lowercase-and-token-and-remove-figure-index', '2-normalized'])\n",
      "--------2----------\n",
      "{'contains-subfigure': 5, 'Img-text': 5, 'paper-ID': 5, 'figure-ID': 5, 'figure-type': 5, '0-originally-extracted': 5, '1-lowercase-and-token-and-remove-figure-index': 5, '2-normalized': 4}\n",
      "------------0------------\n",
      "2-normalized\n",
      "dict_keys(['contains-subfigure', 'Img-text', 'paper-ID', 'figure-ID', 'figure-type', '0-originally-extracted', '1-lowercase-and-token-and-remove-figure-index', '2-normalized'])\n",
      "--------2----------\n",
      "{'contains-subfigure': 5, 'Img-text': 5, 'paper-ID': 5, 'figure-ID': 5, 'figure-type': 5, '0-originally-extracted': 5, '1-lowercase-and-token-and-remove-figure-index': 5, '2-normalized': 5}\n",
      "------------0------------\n",
      "contains-subfigure\n",
      "dict_keys(['contains-subfigure', 'Img-text', 'paper-ID', 'figure-ID', 'figure-type', '0-originally-extracted', '1-lowercase-and-token-and-remove-figure-index', '2-normalized'])\n",
      "--------2----------\n",
      "{'contains-subfigure': 6, 'Img-text': 5, 'paper-ID': 5, 'figure-ID': 5, 'figure-type': 5, '0-originally-extracted': 5, '1-lowercase-and-token-and-remove-figure-index': 5, '2-normalized': 5}\n",
      "------------0------------\n",
      "Img-text\n",
      "dict_keys(['contains-subfigure', 'Img-text', 'paper-ID', 'figure-ID', 'figure-type', '0-originally-extracted', '1-lowercase-and-token-and-remove-figure-index', '2-normalized'])\n",
      "--------2----------\n",
      "{'contains-subfigure': 6, 'Img-text': 6, 'paper-ID': 5, 'figure-ID': 5, 'figure-type': 5, '0-originally-extracted': 5, '1-lowercase-and-token-and-remove-figure-index': 5, '2-normalized': 5}\n",
      "------------0------------\n",
      "paper-ID\n",
      "dict_keys(['contains-subfigure', 'Img-text', 'paper-ID', 'figure-ID', 'figure-type', '0-originally-extracted', '1-lowercase-and-token-and-remove-figure-index', '2-normalized'])\n",
      "--------2----------\n",
      "{'contains-subfigure': 6, 'Img-text': 6, 'paper-ID': 6, 'figure-ID': 5, 'figure-type': 5, '0-originally-extracted': 5, '1-lowercase-and-token-and-remove-figure-index': 5, '2-normalized': 5}\n",
      "------------0------------\n",
      "figure-ID\n",
      "dict_keys(['contains-subfigure', 'Img-text', 'paper-ID', 'figure-ID', 'figure-type', '0-originally-extracted', '1-lowercase-and-token-and-remove-figure-index', '2-normalized'])\n",
      "--------2----------\n",
      "{'contains-subfigure': 6, 'Img-text': 6, 'paper-ID': 6, 'figure-ID': 6, 'figure-type': 5, '0-originally-extracted': 5, '1-lowercase-and-token-and-remove-figure-index': 5, '2-normalized': 5}\n",
      "------------0------------\n",
      "figure-type\n",
      "dict_keys(['contains-subfigure', 'Img-text', 'paper-ID', 'figure-ID', 'figure-type', '0-originally-extracted', '1-lowercase-and-token-and-remove-figure-index', '2-normalized'])\n",
      "--------2----------\n",
      "{'contains-subfigure': 6, 'Img-text': 6, 'paper-ID': 6, 'figure-ID': 6, 'figure-type': 6, '0-originally-extracted': 5, '1-lowercase-and-token-and-remove-figure-index': 5, '2-normalized': 5}\n",
      "------------0------------\n",
      "0-originally-extracted\n",
      "dict_keys(['contains-subfigure', 'Img-text', 'paper-ID', 'figure-ID', 'figure-type', '0-originally-extracted', '1-lowercase-and-token-and-remove-figure-index', '2-normalized'])\n",
      "--------2----------\n",
      "{'contains-subfigure': 6, 'Img-text': 6, 'paper-ID': 6, 'figure-ID': 6, 'figure-type': 6, '0-originally-extracted': 6, '1-lowercase-and-token-and-remove-figure-index': 5, '2-normalized': 5}\n",
      "------------0------------\n",
      "1-lowercase-and-token-and-remove-figure-index\n",
      "dict_keys(['contains-subfigure', 'Img-text', 'paper-ID', 'figure-ID', 'figure-type', '0-originally-extracted', '1-lowercase-and-token-and-remove-figure-index', '2-normalized'])\n",
      "--------2----------\n",
      "{'contains-subfigure': 6, 'Img-text': 6, 'paper-ID': 6, 'figure-ID': 6, 'figure-type': 6, '0-originally-extracted': 6, '1-lowercase-and-token-and-remove-figure-index': 6, '2-normalized': 5}\n",
      "------------0------------\n",
      "2-normalized\n",
      "dict_keys(['contains-subfigure', 'Img-text', 'paper-ID', 'figure-ID', 'figure-type', '0-originally-extracted', '1-lowercase-and-token-and-remove-figure-index', '2-normalized'])\n",
      "--------2----------\n",
      "{'contains-subfigure': 6, 'Img-text': 6, 'paper-ID': 6, 'figure-ID': 6, 'figure-type': 6, '0-originally-extracted': 6, '1-lowercase-and-token-and-remove-figure-index': 6, '2-normalized': 6}\n",
      "------------0------------\n",
      "contains-subfigure\n",
      "dict_keys(['contains-subfigure', 'Img-text', 'paper-ID', 'figure-ID', 'figure-type', '0-originally-extracted', '1-lowercase-and-token-and-remove-figure-index', '2-normalized'])\n",
      "--------2----------\n",
      "{'contains-subfigure': 7, 'Img-text': 6, 'paper-ID': 6, 'figure-ID': 6, 'figure-type': 6, '0-originally-extracted': 6, '1-lowercase-and-token-and-remove-figure-index': 6, '2-normalized': 6}\n",
      "------------0------------\n",
      "Img-text\n",
      "dict_keys(['contains-subfigure', 'Img-text', 'paper-ID', 'figure-ID', 'figure-type', '0-originally-extracted', '1-lowercase-and-token-and-remove-figure-index', '2-normalized'])\n",
      "--------2----------\n",
      "{'contains-subfigure': 7, 'Img-text': 7, 'paper-ID': 6, 'figure-ID': 6, 'figure-type': 6, '0-originally-extracted': 6, '1-lowercase-and-token-and-remove-figure-index': 6, '2-normalized': 6}\n",
      "------------0------------\n",
      "paper-ID\n",
      "dict_keys(['contains-subfigure', 'Img-text', 'paper-ID', 'figure-ID', 'figure-type', '0-originally-extracted', '1-lowercase-and-token-and-remove-figure-index', '2-normalized'])\n",
      "--------2----------\n",
      "{'contains-subfigure': 7, 'Img-text': 7, 'paper-ID': 7, 'figure-ID': 6, 'figure-type': 6, '0-originally-extracted': 6, '1-lowercase-and-token-and-remove-figure-index': 6, '2-normalized': 6}\n",
      "------------0------------\n",
      "figure-ID\n",
      "dict_keys(['contains-subfigure', 'Img-text', 'paper-ID', 'figure-ID', 'figure-type', '0-originally-extracted', '1-lowercase-and-token-and-remove-figure-index', '2-normalized'])\n",
      "--------2----------\n",
      "{'contains-subfigure': 7, 'Img-text': 7, 'paper-ID': 7, 'figure-ID': 7, 'figure-type': 6, '0-originally-extracted': 6, '1-lowercase-and-token-and-remove-figure-index': 6, '2-normalized': 6}\n",
      "------------0------------\n",
      "figure-type\n",
      "dict_keys(['contains-subfigure', 'Img-text', 'paper-ID', 'figure-ID', 'figure-type', '0-originally-extracted', '1-lowercase-and-token-and-remove-figure-index', '2-normalized'])\n",
      "--------2----------\n",
      "{'contains-subfigure': 7, 'Img-text': 7, 'paper-ID': 7, 'figure-ID': 7, 'figure-type': 7, '0-originally-extracted': 6, '1-lowercase-and-token-and-remove-figure-index': 6, '2-normalized': 6}\n",
      "------------0------------\n",
      "0-originally-extracted\n",
      "dict_keys(['contains-subfigure', 'Img-text', 'paper-ID', 'figure-ID', 'figure-type', '0-originally-extracted', '1-lowercase-and-token-and-remove-figure-index', '2-normalized'])\n",
      "--------2----------\n",
      "{'contains-subfigure': 7, 'Img-text': 7, 'paper-ID': 7, 'figure-ID': 7, 'figure-type': 7, '0-originally-extracted': 7, '1-lowercase-and-token-and-remove-figure-index': 6, '2-normalized': 6}\n",
      "------------0------------\n",
      "1-lowercase-and-token-and-remove-figure-index\n",
      "dict_keys(['contains-subfigure', 'Img-text', 'paper-ID', 'figure-ID', 'figure-type', '0-originally-extracted', '1-lowercase-and-token-and-remove-figure-index', '2-normalized'])\n",
      "--------2----------\n",
      "{'contains-subfigure': 7, 'Img-text': 7, 'paper-ID': 7, 'figure-ID': 7, 'figure-type': 7, '0-originally-extracted': 7, '1-lowercase-and-token-and-remove-figure-index': 7, '2-normalized': 6}\n",
      "------------0------------\n",
      "2-normalized\n",
      "dict_keys(['contains-subfigure', 'Img-text', 'paper-ID', 'figure-ID', 'figure-type', '0-originally-extracted', '1-lowercase-and-token-and-remove-figure-index', '2-normalized'])\n",
      "--------2----------\n",
      "{'contains-subfigure': 7, 'Img-text': 7, 'paper-ID': 7, 'figure-ID': 7, 'figure-type': 7, '0-originally-extracted': 7, '1-lowercase-and-token-and-remove-figure-index': 7, '2-normalized': 7}\n",
      "------------0------------\n",
      "contains-subfigure\n",
      "dict_keys(['contains-subfigure', 'Img-text', 'paper-ID', 'figure-ID', 'figure-type', '0-originally-extracted', '1-lowercase-and-token-and-remove-figure-index', '2-normalized'])\n",
      "--------2----------\n",
      "{'contains-subfigure': 8, 'Img-text': 7, 'paper-ID': 7, 'figure-ID': 7, 'figure-type': 7, '0-originally-extracted': 7, '1-lowercase-and-token-and-remove-figure-index': 7, '2-normalized': 7}\n",
      "------------0------------\n",
      "Img-text\n",
      "dict_keys(['contains-subfigure', 'Img-text', 'paper-ID', 'figure-ID', 'figure-type', '0-originally-extracted', '1-lowercase-and-token-and-remove-figure-index', '2-normalized'])\n",
      "--------2----------\n",
      "{'contains-subfigure': 8, 'Img-text': 8, 'paper-ID': 7, 'figure-ID': 7, 'figure-type': 7, '0-originally-extracted': 7, '1-lowercase-and-token-and-remove-figure-index': 7, '2-normalized': 7}\n",
      "------------0------------\n",
      "paper-ID\n",
      "dict_keys(['contains-subfigure', 'Img-text', 'paper-ID', 'figure-ID', 'figure-type', '0-originally-extracted', '1-lowercase-and-token-and-remove-figure-index', '2-normalized'])\n",
      "--------2----------\n",
      "{'contains-subfigure': 8, 'Img-text': 8, 'paper-ID': 8, 'figure-ID': 7, 'figure-type': 7, '0-originally-extracted': 7, '1-lowercase-and-token-and-remove-figure-index': 7, '2-normalized': 7}\n",
      "------------0------------\n",
      "figure-ID\n",
      "dict_keys(['contains-subfigure', 'Img-text', 'paper-ID', 'figure-ID', 'figure-type', '0-originally-extracted', '1-lowercase-and-token-and-remove-figure-index', '2-normalized'])\n",
      "--------2----------\n",
      "{'contains-subfigure': 8, 'Img-text': 8, 'paper-ID': 8, 'figure-ID': 8, 'figure-type': 7, '0-originally-extracted': 7, '1-lowercase-and-token-and-remove-figure-index': 7, '2-normalized': 7}\n",
      "------------0------------\n",
      "figure-type\n",
      "dict_keys(['contains-subfigure', 'Img-text', 'paper-ID', 'figure-ID', 'figure-type', '0-originally-extracted', '1-lowercase-and-token-and-remove-figure-index', '2-normalized'])\n",
      "--------2----------\n",
      "{'contains-subfigure': 8, 'Img-text': 8, 'paper-ID': 8, 'figure-ID': 8, 'figure-type': 8, '0-originally-extracted': 7, '1-lowercase-and-token-and-remove-figure-index': 7, '2-normalized': 7}\n",
      "------------0------------\n",
      "0-originally-extracted\n",
      "dict_keys(['contains-subfigure', 'Img-text', 'paper-ID', 'figure-ID', 'figure-type', '0-originally-extracted', '1-lowercase-and-token-and-remove-figure-index', '2-normalized'])\n",
      "--------2----------\n",
      "{'contains-subfigure': 8, 'Img-text': 8, 'paper-ID': 8, 'figure-ID': 8, 'figure-type': 8, '0-originally-extracted': 8, '1-lowercase-and-token-and-remove-figure-index': 7, '2-normalized': 7}\n",
      "------------0------------\n",
      "1-lowercase-and-token-and-remove-figure-index\n",
      "dict_keys(['contains-subfigure', 'Img-text', 'paper-ID', 'figure-ID', 'figure-type', '0-originally-extracted', '1-lowercase-and-token-and-remove-figure-index', '2-normalized'])\n",
      "--------2----------\n",
      "{'contains-subfigure': 8, 'Img-text': 8, 'paper-ID': 8, 'figure-ID': 8, 'figure-type': 8, '0-originally-extracted': 8, '1-lowercase-and-token-and-remove-figure-index': 8, '2-normalized': 7}\n",
      "------------0------------\n",
      "2-normalized\n",
      "dict_keys(['contains-subfigure', 'Img-text', 'paper-ID', 'figure-ID', 'figure-type', '0-originally-extracted', '1-lowercase-and-token-and-remove-figure-index', '2-normalized'])\n",
      "--------2----------\n",
      "{'contains-subfigure': 8, 'Img-text': 8, 'paper-ID': 8, 'figure-ID': 8, 'figure-type': 8, '0-originally-extracted': 8, '1-lowercase-and-token-and-remove-figure-index': 8, '2-normalized': 8}\n",
      "<class 'list'>\n"
     ]
    },
    {
     "name": "stderr",
     "output_type": "stream",
     "text": [
      "  0%|                                                                                                         | 0/4 [00:00<?, ?it/s]2024-05-19 16:03:45,082 - __main__ - INFO - image_captions - Picked up file ---2008.00584v1-Figure2-1.json\n",
      "2024-05-19 16:03:45,083 - __main__ - INFO - image_captions - keys count ---8\n",
      "2024-05-19 16:03:45,084 - __main__ - INFO - image_captions - Picked up file ---1908.01292v2-Figure3-1.json\n",
      "2024-05-19 16:03:45,085 - __main__ - INFO - image_captions - keys count ---8\n",
      "2024-05-19 16:03:45,085 - __main__ - INFO - image_captions - Picked up file ---1406.2392v1-Figure4-1.json\n",
      "2024-05-19 16:03:45,086 - __main__ - INFO - image_captions - keys count ---8\n",
      "2024-05-19 16:03:45,086 - __main__ - INFO - image_captions - Picked up file ---2006.15946v1-Figure5-1.json\n",
      "2024-05-19 16:03:45,087 - __main__ - INFO - image_captions - keys count ---8\n",
      "100%|████████████████████████████████████████████████████████████████████████████████████████████████| 4/4 [00:00<00:00, 786.33it/s]"
     ]
    },
    {
     "name": "stdout",
     "output_type": "stream",
     "text": [
      "------------0------------\n",
      "contains-subfigure\n",
      "dict_keys(['contains-subfigure', 'Img-text', 'paper-ID', 'figure-ID', 'figure-type', '0-originally-extracted', '1-lowercase-and-token-and-remove-figure-index', '2-normalized'])\n",
      "--------2----------\n",
      "{'contains-subfigure': 9, 'Img-text': 8, 'paper-ID': 8, 'figure-ID': 8, 'figure-type': 8, '0-originally-extracted': 8, '1-lowercase-and-token-and-remove-figure-index': 8, '2-normalized': 8}\n",
      "------------0------------\n",
      "Img-text\n",
      "dict_keys(['contains-subfigure', 'Img-text', 'paper-ID', 'figure-ID', 'figure-type', '0-originally-extracted', '1-lowercase-and-token-and-remove-figure-index', '2-normalized'])\n",
      "--------2----------\n",
      "{'contains-subfigure': 9, 'Img-text': 9, 'paper-ID': 8, 'figure-ID': 8, 'figure-type': 8, '0-originally-extracted': 8, '1-lowercase-and-token-and-remove-figure-index': 8, '2-normalized': 8}\n",
      "------------0------------\n",
      "paper-ID\n",
      "dict_keys(['contains-subfigure', 'Img-text', 'paper-ID', 'figure-ID', 'figure-type', '0-originally-extracted', '1-lowercase-and-token-and-remove-figure-index', '2-normalized'])\n",
      "--------2----------\n",
      "{'contains-subfigure': 9, 'Img-text': 9, 'paper-ID': 9, 'figure-ID': 8, 'figure-type': 8, '0-originally-extracted': 8, '1-lowercase-and-token-and-remove-figure-index': 8, '2-normalized': 8}\n",
      "------------0------------\n",
      "figure-ID\n",
      "dict_keys(['contains-subfigure', 'Img-text', 'paper-ID', 'figure-ID', 'figure-type', '0-originally-extracted', '1-lowercase-and-token-and-remove-figure-index', '2-normalized'])\n",
      "--------2----------\n",
      "{'contains-subfigure': 9, 'Img-text': 9, 'paper-ID': 9, 'figure-ID': 9, 'figure-type': 8, '0-originally-extracted': 8, '1-lowercase-and-token-and-remove-figure-index': 8, '2-normalized': 8}\n",
      "------------0------------\n",
      "figure-type\n",
      "dict_keys(['contains-subfigure', 'Img-text', 'paper-ID', 'figure-ID', 'figure-type', '0-originally-extracted', '1-lowercase-and-token-and-remove-figure-index', '2-normalized'])\n",
      "--------2----------\n",
      "{'contains-subfigure': 9, 'Img-text': 9, 'paper-ID': 9, 'figure-ID': 9, 'figure-type': 9, '0-originally-extracted': 8, '1-lowercase-and-token-and-remove-figure-index': 8, '2-normalized': 8}\n",
      "------------0------------\n",
      "0-originally-extracted\n",
      "dict_keys(['contains-subfigure', 'Img-text', 'paper-ID', 'figure-ID', 'figure-type', '0-originally-extracted', '1-lowercase-and-token-and-remove-figure-index', '2-normalized'])\n",
      "--------2----------\n",
      "{'contains-subfigure': 9, 'Img-text': 9, 'paper-ID': 9, 'figure-ID': 9, 'figure-type': 9, '0-originally-extracted': 9, '1-lowercase-and-token-and-remove-figure-index': 8, '2-normalized': 8}\n",
      "------------0------------\n",
      "1-lowercase-and-token-and-remove-figure-index\n",
      "dict_keys(['contains-subfigure', 'Img-text', 'paper-ID', 'figure-ID', 'figure-type', '0-originally-extracted', '1-lowercase-and-token-and-remove-figure-index', '2-normalized'])\n",
      "--------2----------\n",
      "{'contains-subfigure': 9, 'Img-text': 9, 'paper-ID': 9, 'figure-ID': 9, 'figure-type': 9, '0-originally-extracted': 9, '1-lowercase-and-token-and-remove-figure-index': 9, '2-normalized': 8}\n",
      "------------0------------\n",
      "2-normalized\n",
      "dict_keys(['contains-subfigure', 'Img-text', 'paper-ID', 'figure-ID', 'figure-type', '0-originally-extracted', '1-lowercase-and-token-and-remove-figure-index', '2-normalized'])\n",
      "--------2----------\n",
      "{'contains-subfigure': 9, 'Img-text': 9, 'paper-ID': 9, 'figure-ID': 9, 'figure-type': 9, '0-originally-extracted': 9, '1-lowercase-and-token-and-remove-figure-index': 9, '2-normalized': 9}\n",
      "------------0------------\n",
      "contains-subfigure\n",
      "dict_keys(['contains-subfigure', 'Img-text', 'paper-ID', 'figure-ID', 'figure-type', '0-originally-extracted', '1-lowercase-and-token-and-remove-figure-index', '2-normalized'])\n",
      "--------2----------\n",
      "{'contains-subfigure': 10, 'Img-text': 9, 'paper-ID': 9, 'figure-ID': 9, 'figure-type': 9, '0-originally-extracted': 9, '1-lowercase-and-token-and-remove-figure-index': 9, '2-normalized': 9}\n",
      "------------0------------\n",
      "Img-text\n",
      "dict_keys(['contains-subfigure', 'Img-text', 'paper-ID', 'figure-ID', 'figure-type', '0-originally-extracted', '1-lowercase-and-token-and-remove-figure-index', '2-normalized'])\n",
      "--------2----------\n",
      "{'contains-subfigure': 10, 'Img-text': 10, 'paper-ID': 9, 'figure-ID': 9, 'figure-type': 9, '0-originally-extracted': 9, '1-lowercase-and-token-and-remove-figure-index': 9, '2-normalized': 9}\n",
      "------------0------------\n",
      "paper-ID\n",
      "dict_keys(['contains-subfigure', 'Img-text', 'paper-ID', 'figure-ID', 'figure-type', '0-originally-extracted', '1-lowercase-and-token-and-remove-figure-index', '2-normalized'])\n",
      "--------2----------\n",
      "{'contains-subfigure': 10, 'Img-text': 10, 'paper-ID': 10, 'figure-ID': 9, 'figure-type': 9, '0-originally-extracted': 9, '1-lowercase-and-token-and-remove-figure-index': 9, '2-normalized': 9}\n",
      "------------0------------\n",
      "figure-ID\n",
      "dict_keys(['contains-subfigure', 'Img-text', 'paper-ID', 'figure-ID', 'figure-type', '0-originally-extracted', '1-lowercase-and-token-and-remove-figure-index', '2-normalized'])\n",
      "--------2----------\n",
      "{'contains-subfigure': 10, 'Img-text': 10, 'paper-ID': 10, 'figure-ID': 10, 'figure-type': 9, '0-originally-extracted': 9, '1-lowercase-and-token-and-remove-figure-index': 9, '2-normalized': 9}\n",
      "------------0------------\n",
      "figure-type\n",
      "dict_keys(['contains-subfigure', 'Img-text', 'paper-ID', 'figure-ID', 'figure-type', '0-originally-extracted', '1-lowercase-and-token-and-remove-figure-index', '2-normalized'])\n",
      "--------2----------\n",
      "{'contains-subfigure': 10, 'Img-text': 10, 'paper-ID': 10, 'figure-ID': 10, 'figure-type': 10, '0-originally-extracted': 9, '1-lowercase-and-token-and-remove-figure-index': 9, '2-normalized': 9}\n",
      "------------0------------\n",
      "0-originally-extracted\n",
      "dict_keys(['contains-subfigure', 'Img-text', 'paper-ID', 'figure-ID', 'figure-type', '0-originally-extracted', '1-lowercase-and-token-and-remove-figure-index', '2-normalized'])\n",
      "--------2----------\n",
      "{'contains-subfigure': 10, 'Img-text': 10, 'paper-ID': 10, 'figure-ID': 10, 'figure-type': 10, '0-originally-extracted': 10, '1-lowercase-and-token-and-remove-figure-index': 9, '2-normalized': 9}\n",
      "------------0------------\n",
      "1-lowercase-and-token-and-remove-figure-index\n",
      "dict_keys(['contains-subfigure', 'Img-text', 'paper-ID', 'figure-ID', 'figure-type', '0-originally-extracted', '1-lowercase-and-token-and-remove-figure-index', '2-normalized'])\n",
      "--------2----------\n",
      "{'contains-subfigure': 10, 'Img-text': 10, 'paper-ID': 10, 'figure-ID': 10, 'figure-type': 10, '0-originally-extracted': 10, '1-lowercase-and-token-and-remove-figure-index': 10, '2-normalized': 9}\n",
      "------------0------------\n",
      "2-normalized\n",
      "dict_keys(['contains-subfigure', 'Img-text', 'paper-ID', 'figure-ID', 'figure-type', '0-originally-extracted', '1-lowercase-and-token-and-remove-figure-index', '2-normalized'])\n",
      "--------2----------\n",
      "{'contains-subfigure': 10, 'Img-text': 10, 'paper-ID': 10, 'figure-ID': 10, 'figure-type': 10, '0-originally-extracted': 10, '1-lowercase-and-token-and-remove-figure-index': 10, '2-normalized': 10}\n",
      "------------0------------\n",
      "contains-subfigure\n",
      "dict_keys(['contains-subfigure', 'Img-text', 'paper-ID', 'figure-ID', 'figure-type', '0-originally-extracted', '1-lowercase-and-token-and-remove-figure-index', '2-normalized'])\n",
      "--------2----------\n",
      "{'contains-subfigure': 11, 'Img-text': 10, 'paper-ID': 10, 'figure-ID': 10, 'figure-type': 10, '0-originally-extracted': 10, '1-lowercase-and-token-and-remove-figure-index': 10, '2-normalized': 10}\n",
      "------------0------------\n",
      "Img-text\n",
      "dict_keys(['contains-subfigure', 'Img-text', 'paper-ID', 'figure-ID', 'figure-type', '0-originally-extracted', '1-lowercase-and-token-and-remove-figure-index', '2-normalized'])\n",
      "--------2----------\n",
      "{'contains-subfigure': 11, 'Img-text': 11, 'paper-ID': 10, 'figure-ID': 10, 'figure-type': 10, '0-originally-extracted': 10, '1-lowercase-and-token-and-remove-figure-index': 10, '2-normalized': 10}\n",
      "------------0------------\n",
      "paper-ID\n",
      "dict_keys(['contains-subfigure', 'Img-text', 'paper-ID', 'figure-ID', 'figure-type', '0-originally-extracted', '1-lowercase-and-token-and-remove-figure-index', '2-normalized'])\n",
      "--------2----------\n",
      "{'contains-subfigure': 11, 'Img-text': 11, 'paper-ID': 11, 'figure-ID': 10, 'figure-type': 10, '0-originally-extracted': 10, '1-lowercase-and-token-and-remove-figure-index': 10, '2-normalized': 10}\n",
      "------------0------------\n",
      "figure-ID\n",
      "dict_keys(['contains-subfigure', 'Img-text', 'paper-ID', 'figure-ID', 'figure-type', '0-originally-extracted', '1-lowercase-and-token-and-remove-figure-index', '2-normalized'])\n",
      "--------2----------\n",
      "{'contains-subfigure': 11, 'Img-text': 11, 'paper-ID': 11, 'figure-ID': 11, 'figure-type': 10, '0-originally-extracted': 10, '1-lowercase-and-token-and-remove-figure-index': 10, '2-normalized': 10}\n",
      "------------0------------\n",
      "figure-type\n",
      "dict_keys(['contains-subfigure', 'Img-text', 'paper-ID', 'figure-ID', 'figure-type', '0-originally-extracted', '1-lowercase-and-token-and-remove-figure-index', '2-normalized'])\n",
      "--------2----------\n",
      "{'contains-subfigure': 11, 'Img-text': 11, 'paper-ID': 11, 'figure-ID': 11, 'figure-type': 11, '0-originally-extracted': 10, '1-lowercase-and-token-and-remove-figure-index': 10, '2-normalized': 10}\n",
      "------------0------------\n",
      "0-originally-extracted\n",
      "dict_keys(['contains-subfigure', 'Img-text', 'paper-ID', 'figure-ID', 'figure-type', '0-originally-extracted', '1-lowercase-and-token-and-remove-figure-index', '2-normalized'])\n",
      "--------2----------\n",
      "{'contains-subfigure': 11, 'Img-text': 11, 'paper-ID': 11, 'figure-ID': 11, 'figure-type': 11, '0-originally-extracted': 11, '1-lowercase-and-token-and-remove-figure-index': 10, '2-normalized': 10}\n",
      "------------0------------\n",
      "1-lowercase-and-token-and-remove-figure-index\n",
      "dict_keys(['contains-subfigure', 'Img-text', 'paper-ID', 'figure-ID', 'figure-type', '0-originally-extracted', '1-lowercase-and-token-and-remove-figure-index', '2-normalized'])\n",
      "--------2----------\n",
      "{'contains-subfigure': 11, 'Img-text': 11, 'paper-ID': 11, 'figure-ID': 11, 'figure-type': 11, '0-originally-extracted': 11, '1-lowercase-and-token-and-remove-figure-index': 11, '2-normalized': 10}\n",
      "------------0------------\n",
      "2-normalized\n",
      "dict_keys(['contains-subfigure', 'Img-text', 'paper-ID', 'figure-ID', 'figure-type', '0-originally-extracted', '1-lowercase-and-token-and-remove-figure-index', '2-normalized'])\n",
      "--------2----------\n",
      "{'contains-subfigure': 11, 'Img-text': 11, 'paper-ID': 11, 'figure-ID': 11, 'figure-type': 11, '0-originally-extracted': 11, '1-lowercase-and-token-and-remove-figure-index': 11, '2-normalized': 11}\n",
      "------------0------------\n",
      "contains-subfigure\n",
      "dict_keys(['contains-subfigure', 'Img-text', 'paper-ID', 'figure-ID', 'figure-type', '0-originally-extracted', '1-lowercase-and-token-and-remove-figure-index', '2-normalized'])\n",
      "--------2----------\n",
      "{'contains-subfigure': 12, 'Img-text': 11, 'paper-ID': 11, 'figure-ID': 11, 'figure-type': 11, '0-originally-extracted': 11, '1-lowercase-and-token-and-remove-figure-index': 11, '2-normalized': 11}\n",
      "------------0------------\n",
      "Img-text\n",
      "dict_keys(['contains-subfigure', 'Img-text', 'paper-ID', 'figure-ID', 'figure-type', '0-originally-extracted', '1-lowercase-and-token-and-remove-figure-index', '2-normalized'])\n",
      "--------2----------\n",
      "{'contains-subfigure': 12, 'Img-text': 12, 'paper-ID': 11, 'figure-ID': 11, 'figure-type': 11, '0-originally-extracted': 11, '1-lowercase-and-token-and-remove-figure-index': 11, '2-normalized': 11}\n",
      "------------0------------\n",
      "paper-ID\n",
      "dict_keys(['contains-subfigure', 'Img-text', 'paper-ID', 'figure-ID', 'figure-type', '0-originally-extracted', '1-lowercase-and-token-and-remove-figure-index', '2-normalized'])\n",
      "--------2----------\n",
      "{'contains-subfigure': 12, 'Img-text': 12, 'paper-ID': 12, 'figure-ID': 11, 'figure-type': 11, '0-originally-extracted': 11, '1-lowercase-and-token-and-remove-figure-index': 11, '2-normalized': 11}\n",
      "------------0------------\n",
      "figure-ID\n",
      "dict_keys(['contains-subfigure', 'Img-text', 'paper-ID', 'figure-ID', 'figure-type', '0-originally-extracted', '1-lowercase-and-token-and-remove-figure-index', '2-normalized'])\n",
      "--------2----------\n",
      "{'contains-subfigure': 12, 'Img-text': 12, 'paper-ID': 12, 'figure-ID': 12, 'figure-type': 11, '0-originally-extracted': 11, '1-lowercase-and-token-and-remove-figure-index': 11, '2-normalized': 11}\n",
      "------------0------------\n",
      "figure-type\n",
      "dict_keys(['contains-subfigure', 'Img-text', 'paper-ID', 'figure-ID', 'figure-type', '0-originally-extracted', '1-lowercase-and-token-and-remove-figure-index', '2-normalized'])\n",
      "--------2----------\n",
      "{'contains-subfigure': 12, 'Img-text': 12, 'paper-ID': 12, 'figure-ID': 12, 'figure-type': 12, '0-originally-extracted': 11, '1-lowercase-and-token-and-remove-figure-index': 11, '2-normalized': 11}\n",
      "------------0------------\n",
      "0-originally-extracted\n",
      "dict_keys(['contains-subfigure', 'Img-text', 'paper-ID', 'figure-ID', 'figure-type', '0-originally-extracted', '1-lowercase-and-token-and-remove-figure-index', '2-normalized'])\n",
      "--------2----------\n",
      "{'contains-subfigure': 12, 'Img-text': 12, 'paper-ID': 12, 'figure-ID': 12, 'figure-type': 12, '0-originally-extracted': 12, '1-lowercase-and-token-and-remove-figure-index': 11, '2-normalized': 11}\n",
      "------------0------------\n",
      "1-lowercase-and-token-and-remove-figure-index\n",
      "dict_keys(['contains-subfigure', 'Img-text', 'paper-ID', 'figure-ID', 'figure-type', '0-originally-extracted', '1-lowercase-and-token-and-remove-figure-index', '2-normalized'])\n",
      "--------2----------\n",
      "{'contains-subfigure': 12, 'Img-text': 12, 'paper-ID': 12, 'figure-ID': 12, 'figure-type': 12, '0-originally-extracted': 12, '1-lowercase-and-token-and-remove-figure-index': 12, '2-normalized': 11}\n",
      "------------0------------\n",
      "2-normalized\n",
      "dict_keys(['contains-subfigure', 'Img-text', 'paper-ID', 'figure-ID', 'figure-type', '0-originally-extracted', '1-lowercase-and-token-and-remove-figure-index', '2-normalized'])\n",
      "--------2----------\n",
      "{'contains-subfigure': 12, 'Img-text': 12, 'paper-ID': 12, 'figure-ID': 12, 'figure-type': 12, '0-originally-extracted': 12, '1-lowercase-and-token-and-remove-figure-index': 12, '2-normalized': 12}\n"
     ]
    },
    {
     "name": "stderr",
     "output_type": "stream",
     "text": [
      "\n"
     ]
    }
   ],
   "source": [
    "total_number_of_files = 0\n",
    "final_key_count = {}\n",
    "captions_meta_data = pd.DataFrame()\n",
    "def read_json(path):\n",
    "    with open(path,'r') as f:\n",
    "        json_f = json.load(f)\n",
    "        return json_f\n",
    "        \n",
    "for r,d,files in os.walk(root):\n",
    "    print(type(files))\n",
    "    for f in tqdm(files[0:4]):\n",
    "        # print(f)\n",
    "        logger.info(f\"Picked up file ---{f}\")\n",
    "        try:\n",
    "            if f.endswith(\".json\"):\n",
    "                json_f = read_json(os.path.join(r,f))\n",
    "                file_key_list = list(json_f.keys())\n",
    "                logger.info(f\"keys count ---{len(file_key_list)}\")\n",
    "                \n",
    "                for k in file_key_list:\n",
    "                    print(\"------------0------------\")\n",
    "                    print(k)\n",
    "                    print(final_key_count.keys())\n",
    "                    if k not in list(final_key_count.keys()):\n",
    "                        final_key_count[k] = 1\n",
    "                        print(\"--------1----------\")\n",
    "                        print(final_key_count)\n",
    "                    else:\n",
    "                        print(\"--------2----------\")\n",
    "                        \n",
    "                        final_key_count[k] +=1\n",
    "                        print(final_key_count)\n",
    "                total_number_of_files += 1\n",
    "        except exception as e:\n",
    "            # print(f\"Exception occured for file ref --{f}\")\n",
    "            logger.error(f\"Exception occured for file ref --{f}\")\n",
    "            \n",
    "    "
   ]
  },
  {
   "cell_type": "markdown",
   "id": "490d90de-fc37-4cb8-a56a-4a57d85391d0",
   "metadata": {},
   "source": [
    "# Total number of images"
   ]
  },
  {
   "cell_type": "code",
   "execution_count": 53,
   "id": "9b1b1f53-1954-4a18-bfb6-a07b9612e085",
   "metadata": {},
   "outputs": [
    {
     "name": "stdout",
     "output_type": "stream",
     "text": [
      "Total number of images with not subfig--Train Set--106834\n"
     ]
    }
   ],
   "source": [
    "print(f\"Total number of images with not subfig--Train Set--{len(os.listdir('SciCap-No-Subfig-Img/train'))}\")\n",
    "train = len(os.listdir('SciCap-No-Subfig-Img/train'))"
   ]
  },
  {
   "cell_type": "code",
   "execution_count": 54,
   "id": "96ce7b92-37bb-497a-931a-120be66c9044",
   "metadata": {},
   "outputs": [
    {
     "name": "stdout",
     "output_type": "stream",
     "text": [
      "Total number of images with not subfig--Test Set--13355\n"
     ]
    }
   ],
   "source": [
    "print(f\"Total number of images with not subfig--Test Set--{len(os.listdir('SciCap-No-Subfig-Img/test'))}\")\n",
    "test = len(os.listdir('SciCap-No-Subfig-Img/test'))"
   ]
  },
  {
   "cell_type": "code",
   "execution_count": 55,
   "id": "4abfb27a-901e-49b3-b285-d56e75b948d0",
   "metadata": {},
   "outputs": [
    {
     "name": "stdout",
     "output_type": "stream",
     "text": [
      "Total number of images with not subfig--Val Set--13354\n"
     ]
    }
   ],
   "source": [
    "print(f\"Total number of images with not subfig--Val Set--{len(os.listdir('SciCap-No-Subfig-Img/val'))}\")\n",
    "val = len(os.listdir('SciCap-No-Subfig-Img/val'))"
   ]
  },
  {
   "cell_type": "code",
   "execution_count": 56,
   "id": "2a696b4b-8ebd-4d3e-ac07-e259abfe5146",
   "metadata": {},
   "outputs": [
    {
     "name": "stdout",
     "output_type": "stream",
     "text": [
      "Total number of images with subfig--Train Set--226608\n"
     ]
    }
   ],
   "source": [
    "print(f\"Total number of images with subfig--Train Set--{len(os.listdir('SciCap-Yes-Subfig-Img/train'))}\")\n",
    "train_subfig = len(os.listdir('SciCap-Yes-Subfig-Img/train'))"
   ]
  },
  {
   "cell_type": "code",
   "execution_count": 57,
   "id": "01c126b1-aa0d-4406-b419-54c4ad4a7e66",
   "metadata": {},
   "outputs": [
    {
     "name": "stdout",
     "output_type": "stream",
     "text": [
      "Total number of images with subfig--Test Set--28327\n"
     ]
    }
   ],
   "source": [
    "print(f\"Total number of images with subfig--Test Set--{len(os.listdir('SciCap-Yes-Subfig-Img/test'))}\")\n",
    "test_subfig = len(os.listdir('SciCap-Yes-Subfig-Img/test'))"
   ]
  },
  {
   "cell_type": "code",
   "execution_count": 58,
   "id": "a37bc526-32bc-4772-a996-a8ff2f7fd1f5",
   "metadata": {},
   "outputs": [
    {
     "name": "stdout",
     "output_type": "stream",
     "text": [
      "Total number of images with subfig--Val Set--28326\n"
     ]
    }
   ],
   "source": [
    "print(f\"Total number of images with subfig--Val Set--{len(os.listdir('SciCap-Yes-Subfig-Img/val'))}\")\n",
    "val_subfig = len(os.listdir('SciCap-Yes-Subfig-Img/val'))"
   ]
  },
  {
   "cell_type": "code",
   "execution_count": 59,
   "id": "ded7aff2-4a0f-4d09-91b0-6ed29bc88272",
   "metadata": {},
   "outputs": [
    {
     "name": "stdout",
     "output_type": "stream",
     "text": [
      "Total images in the dataset --- 416804\n"
     ]
    }
   ],
   "source": [
    "total_images = train + test + val + train_subfig + test_subfig + val_subfig\n",
    "print(f\"Total images in the dataset --- {total_images}\")"
   ]
  },
  {
   "cell_type": "code",
   "execution_count": null,
   "id": "a3497510-0cdf-4e69-b2a4-e78290661d73",
   "metadata": {},
   "outputs": [],
   "source": []
  }
 ],
 "metadata": {
  "kernelspec": {
   "display_name": "Python 3 (ipykernel)",
   "language": "python",
   "name": "python3"
  },
  "language_info": {
   "codemirror_mode": {
    "name": "ipython",
    "version": 3
   },
   "file_extension": ".py",
   "mimetype": "text/x-python",
   "name": "python",
   "nbconvert_exporter": "python",
   "pygments_lexer": "ipython3",
   "version": "3.9.6"
  }
 },
 "nbformat": 4,
 "nbformat_minor": 5
}
